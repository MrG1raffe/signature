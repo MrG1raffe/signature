{
 "cells": [
  {
   "cell_type": "code",
   "execution_count": 1,
   "metadata": {},
   "outputs": [
    {
     "ename": "ModuleNotFoundError",
     "evalue": "No module named 'torch'",
     "output_type": "error",
     "traceback": [
      "\u001b[1;31m---------------------------------------------------------------------------\u001b[0m",
      "\u001b[1;31mModuleNotFoundError\u001b[0m                       Traceback (most recent call last)",
      "Cell \u001b[1;32mIn[1], line 3\u001b[0m\n\u001b[0;32m      1\u001b[0m \u001b[38;5;28;01mimport\u001b[39;00m \u001b[38;5;21;01mnumpy\u001b[39;00m \u001b[38;5;28;01mas\u001b[39;00m \u001b[38;5;21;01mnp\u001b[39;00m\n\u001b[0;32m      2\u001b[0m \u001b[38;5;28;01mimport\u001b[39;00m \u001b[38;5;21;01mnumba\u001b[39;00m \u001b[38;5;28;01mas\u001b[39;00m \u001b[38;5;21;01mnb\u001b[39;00m\n\u001b[1;32m----> 3\u001b[0m \u001b[38;5;28;01mimport\u001b[39;00m \u001b[38;5;21;01mtorch\u001b[39;00m\n\u001b[0;32m      5\u001b[0m \u001b[38;5;28;01mfrom\u001b[39;00m \u001b[38;5;21;01mRecherches\u001b[39;00m\u001b[38;5;21;01m.\u001b[39;00m\u001b[38;5;21;01mLinearRepresentations\u001b[39;00m\u001b[38;5;21;01m.\u001b[39;00m\u001b[38;5;21;01mshuffle\u001b[39;00m \u001b[38;5;28;01mimport\u001b[39;00m get_shuffle_operator\n\u001b[0;32m      6\u001b[0m \u001b[38;5;28;01mfrom\u001b[39;00m \u001b[38;5;21;01mRecherches\u001b[39;00m\u001b[38;5;21;01m.\u001b[39;00m\u001b[38;5;21;01mLinearRepresentations\u001b[39;00m\u001b[38;5;21;01m.\u001b[39;00m\u001b[38;5;21;01mmodels\u001b[39;00m \u001b[38;5;28;01mimport\u001b[39;00m linear_form_ncir, make_linear_form_timedep\n",
      "\u001b[1;31mModuleNotFoundError\u001b[0m: No module named 'torch'"
     ]
    }
   ],
   "source": [
    "import numpy as np\n",
    "import numba as nb\n",
    "import torch\n",
    "\n",
    "from Recherches.LinearRepresentations.shuffle import get_shuffle_operator\n",
    "from Recherches.LinearRepresentations.models import linear_form_ncir, make_linear_form_timedep"
   ]
  },
  {
   "cell_type": "code",
   "execution_count": 629,
   "metadata": {
    "collapsed": false,
    "jupyter": {
     "outputs_hidden": false
    },
    "pycharm": {
     "name": "#%%\n"
    }
   },
   "outputs": [
    {
     "name": "stdout",
     "output_type": "stream",
     "text": [
      "• Start: Fri Dec 13 2024, 11h23\n"
     ]
    },
    {
     "data": {
      "text/plain": [
       "array([[  0,   0,   0,   1],\n",
       "       [  1,   0,   1,   1],\n",
       "       [  1,   1,   0,   1],\n",
       "       ...,\n",
       "       [126,  30,   6,  15],\n",
       "       [126,  62,   2,   6],\n",
       "       [126, 126,   0,   1]])"
      ]
     },
     "execution_count": 629,
     "metadata": {},
     "output_type": "execute_result"
    },
    {
     "name": "stdout",
     "output_type": "stream",
     "text": [
      "• End  : Fri Dec 13 2024, 11h23 (3.8 ms)\n"
     ]
    }
   ],
   "source": [
    "%%time\n",
    "dim = 2\n",
    "trunc = 6\n",
    "max_trunc = trunc\n",
    "shuffle_operator = get_shuffle_operator(\n",
    "    left_dim=dim, right_dim=dim,\n",
    "    left_trunc=trunc, right_trunc=trunc,\n",
    "    max_trunc=max_trunc,\n",
    ")\n",
    "shuffle_operator"
   ]
  },
  {
   "cell_type": "code",
   "execution_count": 630,
   "metadata": {
    "collapsed": false,
    "jupyter": {
     "outputs_hidden": false
    },
    "pycharm": {
     "name": "#%%\n"
    }
   },
   "outputs": [
    {
     "name": "stdout",
     "output_type": "stream",
     "text": [
      "127 127\n",
      "127 127 1\n"
     ]
    }
   ],
   "source": [
    "print((dim ** (max_trunc + 1) - 1) // (dim - 1), shuffle_operator[-1, 0] + 1)\n",
    "print((dim ** (trunc + 1) - 1) // (dim - 1), shuffle_operator[-1, 1] + 1, shuffle_operator[-1, 2] + 1)"
   ]
  },
  {
   "cell_type": "code",
   "execution_count": 631,
   "metadata": {
    "collapsed": false,
    "jupyter": {
     "outputs_hidden": false
    },
    "pycharm": {
     "name": "#%%\n"
    }
   },
   "outputs": [
    {
     "name": "stdout",
     "output_type": "stream",
     "text": [
      "• Start: Fri Dec 13 2024, 11h23\n"
     ]
    },
    {
     "data": {
      "text/plain": [
       "LinearFunctional(np.array([ 2.00000000e-01, -1.60000000e-01,  5.36656315e-01,  6.40000000e-01,\n",
       "       -2.14662526e-01, -2.14662526e+00,  7.20000000e-01, -2.56000000e+00,\n",
       "        7.72785093e-01,  8.58650103e-01,  0.00000000e+00,  8.58650103e+00,\n",
       "       -2.59200000e+00, -2.88000000e+00,  0.00000000e+00,  1.02400000e+01,\n",
       "       -2.50725830e+00, -3.09114037e+00,  0.00000000e+00, -3.43460041e+00,\n",
       "       -9.21600000e-01,  0.00000000e+00,  0.00000000e+00, -3.43460041e+01,\n",
       "        8.40960000e+00,  1.03680000e+01,  0.00000000e+00,  1.15200000e+01,\n",
       "        3.09114037e+00,  0.00000000e+00,  0.00000000e+00, -4.09600000e+01,\n",
       "        6.38835677e+00,  1.00290332e+01,  0.00000000e+00,  1.23645615e+01,\n",
       "        2.21184000e+00,  0.00000000e+00,  0.00000000e+00,  1.37384017e+01,\n",
       "        8.84736000e+00,  3.68640000e+00,  0.00000000e+00,  0.00000000e+00,\n",
       "        3.70936845e+00,  0.00000000e+00,  0.00000000e+00,  1.37384017e+02,\n",
       "       -2.14272000e+01, -3.36384000e+01,  0.00000000e+00, -4.14720000e+01,\n",
       "       -7.41873689e+00,  0.00000000e+00,  0.00000000e+00, -4.60800000e+01,\n",
       "       -2.96749476e+01, -1.23645615e+01,  0.00000000e+00,  0.00000000e+00,\n",
       "       -1.24416000e+01,  0.00000000e+00,  0.00000000e+00,  1.63840000e+02,\n",
       "       -6.07237353e+00, -2.55534271e+01,  0.00000000e+00, -4.01161328e+01,\n",
       "       -5.89824000e-01,  0.00000000e+00,  0.00000000e+00, -4.94582460e+01,\n",
       "       -1.41557760e+01, -8.84736000e+00,  0.00000000e+00,  0.00000000e+00,\n",
       "       -7.41873689e+00,  0.00000000e+00,  0.00000000e+00, -5.49536066e+01,\n",
       "       -5.67705600e+01, -3.53894400e+01,  0.00000000e+00, -1.47456000e+01,\n",
       "       -2.47291230e+01,  0.00000000e+00,  0.00000000e+00,  0.00000000e+00,\n",
       "       -5.93498951e+01, -1.48374738e+01,  0.00000000e+00,  0.00000000e+00,\n",
       "       -1.99065600e+01,  0.00000000e+00,  0.00000000e+00, -5.49536066e+02,\n",
       "        2.03673600e+01,  8.57088000e+01,  0.00000000e+00,  1.34553600e+02,\n",
       "        1.97832984e+00,  0.00000000e+00,  0.00000000e+00,  1.65888000e+02,\n",
       "        4.74799161e+01,  2.96749476e+01,  0.00000000e+00,  0.00000000e+00,\n",
       "        2.48832000e+01,  0.00000000e+00,  0.00000000e+00,  1.84320000e+02,\n",
       "        1.90414247e+02,  1.18699790e+02,  0.00000000e+00,  4.94582460e+01,\n",
       "        8.29440000e+01,  0.00000000e+00,  0.00000000e+00,  0.00000000e+00,\n",
       "        1.99065600e+02,  4.97664000e+01,  0.00000000e+00,  0.00000000e+00,\n",
       "        6.67686320e+01,  0.00000000e+00,  0.00000000e+00]), dim=2)"
      ]
     },
     "execution_count": 631,
     "metadata": {},
     "output_type": "execute_result"
    },
    {
     "name": "stdout",
     "output_type": "stream",
     "text": [
      "• End  : Fri Dec 13 2024, 11h23 (12.4 ms)\n"
     ]
    }
   ],
   "source": [
    "%%time\n",
    "V_0 = 0.2\n",
    "kappa = 4.\n",
    "theta = 0.25\n",
    "eta = 1.2\n",
    "\n",
    "n = 1   # power of ell\n",
    "ell = linear_form_ncir(trunc=trunc, V_0=V_0, kappa=kappa, theta=theta, eta=eta, n=n)\n",
    "ell_squared = linear_form_ncir(trunc=max_trunc, V_0=V_0, kappa=kappa, theta=theta, eta=eta, n=n*2)\n",
    "ell_squared"
   ]
  },
  {
   "cell_type": "code",
   "execution_count": 632,
   "metadata": {
    "collapsed": false,
    "jupyter": {
     "outputs_hidden": false
    },
    "pycharm": {
     "name": "#%%\n"
    }
   },
   "outputs": [],
   "source": [
    "@nb.jit\n",
    "def shuffle_product_numba(linear_left, linear_right, shuop):\n",
    "    index_result, index_left, index_right, count = shuop.T\n",
    "    source = count * linear_left[index_left] * linear_right[index_right]\n",
    "    linear_result = np.zeros(shape=index_result[-1]+1)\n",
    "    for i in range(len(index_result)):\n",
    "        linear_result[index_result[i]] += source[i]\n",
    "    return linear_result\n",
    "\n",
    "def shuffle_product_numpy(linear_left, linear_right, shuop):\n",
    "    index_result, index_left, index_right, count = shuop.T\n",
    "    source = count * linear_left[index_left] * linear_right[index_right]\n",
    "    linear_result = np.zeros(shape=index_result[-1]+1)\n",
    "    np.add.at(linear_result, index_result, source)\n",
    "    return linear_result\n",
    "\n",
    "def shuffle_product_torch(linear_left, linear_right, shuop):\n",
    "    index_result, index_left, index_right, count = shuop.T\n",
    "    source = count * linear_left[index_left] * linear_right[index_right]\n",
    "    linear_result = torch.zeros(size=(index_result[-1]+1,), dtype=source.dtype, device=source.device)\n",
    "    linear_result.scatter_add_(dim=0, index=index_result, src=source)\n",
    "    return linear_result"
   ]
  },
  {
   "cell_type": "code",
   "execution_count": 633,
   "metadata": {
    "collapsed": false,
    "jupyter": {
     "outputs_hidden": false
    },
    "pycharm": {
     "name": "#%%\n"
    }
   },
   "outputs": [
    {
     "data": {
      "text/plain": [
       "array([ 2.00000000e-01, -1.60000000e-01,  5.36656315e-01,  6.40000000e-01,\n",
       "       -2.14662526e-01, -2.14662526e+00,  7.20000000e-01, -2.56000000e+00,\n",
       "        7.72785093e-01,  8.58650103e-01,  0.00000000e+00,  8.58650103e+00,\n",
       "       -2.59200000e+00, -2.88000000e+00,  0.00000000e+00,  1.02400000e+01,\n",
       "       -2.50725830e+00, -3.09114037e+00,  0.00000000e+00, -3.43460041e+00,\n",
       "       -9.21600000e-01, -6.66133815e-16,  0.00000000e+00, -3.43460041e+01,\n",
       "        8.40960000e+00,  1.03680000e+01,  0.00000000e+00,  1.15200000e+01,\n",
       "        3.09114037e+00, -1.77635684e-15,  0.00000000e+00, -4.09600000e+01,\n",
       "        6.38835677e+00,  1.00290332e+01,  0.00000000e+00,  1.23645615e+01,\n",
       "        2.21184000e+00,  1.77635684e-15,  0.00000000e+00,  1.37384017e+01,\n",
       "        8.84736000e+00,  3.68640000e+00,  0.00000000e+00,  3.90798505e-14,\n",
       "        3.70936845e+00, -1.50990331e-14,  0.00000000e+00,  1.37384017e+02,\n",
       "       -2.14272000e+01, -3.36384000e+01,  0.00000000e+00, -4.14720000e+01,\n",
       "       -7.41873689e+00, -3.55271368e-15,  0.00000000e+00, -4.60800000e+01,\n",
       "       -2.96749476e+01, -1.23645615e+01,  0.00000000e+00, -4.26325641e-14,\n",
       "       -1.24416000e+01,  7.10542736e-15,  0.00000000e+00,  1.63840000e+02,\n",
       "       -6.07237353e+00, -2.55534271e+01,  0.00000000e+00, -4.01161328e+01,\n",
       "       -5.89824000e-01,  7.34079464e-13,  0.00000000e+00, -4.94582460e+01,\n",
       "       -1.41557760e+01, -8.84736000e+00,  0.00000000e+00,  7.17648163e-13,\n",
       "       -7.41873689e+00,  2.68229883e-13,  0.00000000e+00, -5.49536066e+01,\n",
       "       -5.67705600e+01, -3.53894400e+01,  0.00000000e+00, -1.47456000e+01,\n",
       "       -2.47291230e+01,  1.70530257e-13,  0.00000000e+00,  3.69482223e-13,\n",
       "       -5.93498951e+01, -1.48374738e+01,  0.00000000e+00,  2.84217094e-13,\n",
       "       -1.99065600e+01, -1.42108547e-14,  0.00000000e+00, -5.49536066e+02,\n",
       "        2.03673600e+01,  8.57088000e+01,  0.00000000e+00,  1.34553600e+02,\n",
       "        1.97832984e+00,  8.88178420e-15,  0.00000000e+00,  1.65888000e+02,\n",
       "        4.74799161e+01,  2.96749476e+01,  0.00000000e+00,  2.98427949e-13,\n",
       "        2.48832000e+01,  3.55271368e-14,  0.00000000e+00,  1.84320000e+02,\n",
       "        1.90414247e+02,  1.18699790e+02,  0.00000000e+00,  4.94582460e+01,\n",
       "        8.29440000e+01,  0.00000000e+00,  0.00000000e+00,  1.13686838e-13,\n",
       "        1.99065600e+02,  4.97664000e+01,  0.00000000e+00, -1.13686838e-13,\n",
       "        6.67686320e+01,  5.68434189e-14,  0.00000000e+00])"
      ]
     },
     "execution_count": 633,
     "metadata": {},
     "output_type": "execute_result"
    }
   ],
   "source": [
    "ell_squared_numba = shuffle_product_numba(ell.array, ell.array, shuffle_operator)\n",
    "ell_squared_numba"
   ]
  },
  {
   "cell_type": "code",
   "execution_count": 634,
   "metadata": {
    "collapsed": false,
    "jupyter": {
     "outputs_hidden": false
    },
    "pycharm": {
     "name": "#%%\n"
    }
   },
   "outputs": [
    {
     "data": {
      "text/plain": [
       "array([ 2.00000000e-01, -1.60000000e-01,  5.36656315e-01,  6.40000000e-01,\n",
       "       -2.14662526e-01, -2.14662526e+00,  7.20000000e-01, -2.56000000e+00,\n",
       "        7.72785093e-01,  8.58650103e-01,  0.00000000e+00,  8.58650103e+00,\n",
       "       -2.59200000e+00, -2.88000000e+00,  0.00000000e+00,  1.02400000e+01,\n",
       "       -2.50725830e+00, -3.09114037e+00,  0.00000000e+00, -3.43460041e+00,\n",
       "       -9.21600000e-01, -6.66133815e-16,  0.00000000e+00, -3.43460041e+01,\n",
       "        8.40960000e+00,  1.03680000e+01,  0.00000000e+00,  1.15200000e+01,\n",
       "        3.09114037e+00, -1.77635684e-15,  0.00000000e+00, -4.09600000e+01,\n",
       "        6.38835677e+00,  1.00290332e+01,  0.00000000e+00,  1.23645615e+01,\n",
       "        2.21184000e+00,  1.77635684e-15,  0.00000000e+00,  1.37384017e+01,\n",
       "        8.84736000e+00,  3.68640000e+00,  0.00000000e+00,  3.90798505e-14,\n",
       "        3.70936845e+00, -1.50990331e-14,  0.00000000e+00,  1.37384017e+02,\n",
       "       -2.14272000e+01, -3.36384000e+01,  0.00000000e+00, -4.14720000e+01,\n",
       "       -7.41873689e+00, -3.55271368e-15,  0.00000000e+00, -4.60800000e+01,\n",
       "       -2.96749476e+01, -1.23645615e+01,  0.00000000e+00, -4.26325641e-14,\n",
       "       -1.24416000e+01,  7.10542736e-15,  0.00000000e+00,  1.63840000e+02,\n",
       "       -6.07237353e+00, -2.55534271e+01,  0.00000000e+00, -4.01161328e+01,\n",
       "       -5.89824000e-01,  7.34079464e-13,  0.00000000e+00, -4.94582460e+01,\n",
       "       -1.41557760e+01, -8.84736000e+00,  0.00000000e+00,  7.17648163e-13,\n",
       "       -7.41873689e+00,  2.68229883e-13,  0.00000000e+00, -5.49536066e+01,\n",
       "       -5.67705600e+01, -3.53894400e+01,  0.00000000e+00, -1.47456000e+01,\n",
       "       -2.47291230e+01,  1.70530257e-13,  0.00000000e+00,  3.69482223e-13,\n",
       "       -5.93498951e+01, -1.48374738e+01,  0.00000000e+00,  2.84217094e-13,\n",
       "       -1.99065600e+01, -1.42108547e-14,  0.00000000e+00, -5.49536066e+02,\n",
       "        2.03673600e+01,  8.57088000e+01,  0.00000000e+00,  1.34553600e+02,\n",
       "        1.97832984e+00,  8.88178420e-15,  0.00000000e+00,  1.65888000e+02,\n",
       "        4.74799161e+01,  2.96749476e+01,  0.00000000e+00,  2.98427949e-13,\n",
       "        2.48832000e+01,  3.55271368e-14,  0.00000000e+00,  1.84320000e+02,\n",
       "        1.90414247e+02,  1.18699790e+02,  0.00000000e+00,  4.94582460e+01,\n",
       "        8.29440000e+01,  0.00000000e+00,  0.00000000e+00,  1.13686838e-13,\n",
       "        1.99065600e+02,  4.97664000e+01,  0.00000000e+00, -1.13686838e-13,\n",
       "        6.67686320e+01,  5.68434189e-14,  0.00000000e+00])"
      ]
     },
     "execution_count": 634,
     "metadata": {},
     "output_type": "execute_result"
    }
   ],
   "source": [
    "ell_squared_numpy = shuffle_product_numpy(ell, ell, shuffle_operator)\n",
    "ell_squared_numpy"
   ]
  },
  {
   "cell_type": "code",
   "execution_count": 635,
   "metadata": {
    "collapsed": false,
    "jupyter": {
     "outputs_hidden": false
    },
    "pycharm": {
     "name": "#%%\n"
    }
   },
   "outputs": [
    {
     "data": {
      "text/plain": [
       "array([ 2.00000000e-01, -1.60000000e-01,  5.36656315e-01,  6.40000000e-01,\n",
       "       -2.14662526e-01, -2.14662526e+00,  7.20000000e-01, -2.56000000e+00,\n",
       "        7.72785093e-01,  8.58650103e-01,  0.00000000e+00,  8.58650103e+00,\n",
       "       -2.59200000e+00, -2.88000000e+00,  0.00000000e+00,  1.02400000e+01,\n",
       "       -2.50725830e+00, -3.09114037e+00,  0.00000000e+00, -3.43460041e+00,\n",
       "       -9.21600000e-01, -6.66133815e-16,  0.00000000e+00, -3.43460041e+01,\n",
       "        8.40960000e+00,  1.03680000e+01,  0.00000000e+00,  1.15200000e+01,\n",
       "        3.09114037e+00, -1.77635684e-15,  0.00000000e+00, -4.09600000e+01,\n",
       "        6.38835677e+00,  1.00290332e+01,  0.00000000e+00,  1.23645615e+01,\n",
       "        2.21184000e+00,  1.77635684e-15,  0.00000000e+00,  1.37384017e+01,\n",
       "        8.84736000e+00,  3.68640000e+00,  0.00000000e+00,  3.90798505e-14,\n",
       "        3.70936845e+00, -1.50990331e-14,  0.00000000e+00,  1.37384017e+02,\n",
       "       -2.14272000e+01, -3.36384000e+01,  0.00000000e+00, -4.14720000e+01,\n",
       "       -7.41873689e+00, -3.55271368e-15,  0.00000000e+00, -4.60800000e+01,\n",
       "       -2.96749476e+01, -1.23645615e+01,  0.00000000e+00, -4.26325641e-14,\n",
       "       -1.24416000e+01,  7.10542736e-15,  0.00000000e+00,  1.63840000e+02,\n",
       "       -6.07237353e+00, -2.55534271e+01,  0.00000000e+00, -4.01161328e+01,\n",
       "       -5.89824000e-01,  7.34079464e-13,  0.00000000e+00, -4.94582460e+01,\n",
       "       -1.41557760e+01, -8.84736000e+00,  0.00000000e+00,  7.17648163e-13,\n",
       "       -7.41873689e+00,  2.68229883e-13,  0.00000000e+00, -5.49536066e+01,\n",
       "       -5.67705600e+01, -3.53894400e+01,  0.00000000e+00, -1.47456000e+01,\n",
       "       -2.47291230e+01,  1.70530257e-13,  0.00000000e+00,  3.69482223e-13,\n",
       "       -5.93498951e+01, -1.48374738e+01,  0.00000000e+00,  2.84217094e-13,\n",
       "       -1.99065600e+01, -1.42108547e-14,  0.00000000e+00, -5.49536066e+02,\n",
       "        2.03673600e+01,  8.57088000e+01,  0.00000000e+00,  1.34553600e+02,\n",
       "        1.97832984e+00,  8.88178420e-15,  0.00000000e+00,  1.65888000e+02,\n",
       "        4.74799161e+01,  2.96749476e+01,  0.00000000e+00,  2.98427949e-13,\n",
       "        2.48832000e+01,  3.55271368e-14,  0.00000000e+00,  1.84320000e+02,\n",
       "        1.90414247e+02,  1.18699790e+02,  0.00000000e+00,  4.94582460e+01,\n",
       "        8.29440000e+01,  0.00000000e+00,  0.00000000e+00,  1.13686838e-13,\n",
       "        1.99065600e+02,  4.97664000e+01,  0.00000000e+00, -1.13686838e-13,\n",
       "        6.67686320e+01,  5.68434189e-14,  0.00000000e+00])"
      ]
     },
     "execution_count": 635,
     "metadata": {},
     "output_type": "execute_result"
    }
   ],
   "source": [
    "torch.set_default_device(\"cpu\") # \"cuda\" if you have a nvidia GPU\n",
    "ell_torch = torch.from_numpy(ell.array).double()\n",
    "shuffle_operator_torch = torch.from_numpy(shuffle_operator).long()\n",
    "ell_squared_torch = shuffle_product_torch(ell_torch, ell_torch, shuffle_operator_torch).numpy()\n",
    "ell_squared_torch"
   ]
  },
  {
   "cell_type": "code",
   "execution_count": 636,
   "metadata": {
    "collapsed": false,
    "jupyter": {
     "outputs_hidden": false
    },
    "pycharm": {
     "name": "#%%\n"
    }
   },
   "outputs": [
    {
     "name": "stdout",
     "output_type": "stream",
     "text": [
      "True\n",
      "True\n",
      "True\n"
     ]
    }
   ],
   "source": [
    "print(np.allclose(ell_squared, ell_squared_numba))\n",
    "print(np.allclose(ell_squared, ell_squared_numpy))\n",
    "print(np.allclose(ell_squared, ell_squared_torch))"
   ]
  },
  {
   "cell_type": "code",
   "execution_count": 348,
   "metadata": {
    "collapsed": false,
    "jupyter": {
     "outputs_hidden": false
    },
    "pycharm": {
     "name": "#%%\n"
    }
   },
   "outputs": [
    {
     "name": "stdout",
     "output_type": "stream",
     "text": [
      "11.3 μs ± 77.8 ns per loop (mean ± std. dev. of 7 runs, 100,000 loops each)\n"
     ]
    }
   ],
   "source": [
    "%timeit shuffle_product_numba(ell.array, ell.array, shuffle_operator)"
   ]
  },
  {
   "cell_type": "code",
   "execution_count": 349,
   "metadata": {
    "collapsed": false,
    "jupyter": {
     "outputs_hidden": false
    },
    "pycharm": {
     "name": "#%%\n"
    }
   },
   "outputs": [
    {
     "name": "stdout",
     "output_type": "stream",
     "text": [
      "16.3 μs ± 144 ns per loop (mean ± std. dev. of 7 runs, 100,000 loops each)\n"
     ]
    }
   ],
   "source": [
    "%timeit shuffle_product_numpy(ell, ell, shuffle_operator)"
   ]
  },
  {
   "cell_type": "code",
   "execution_count": 350,
   "metadata": {
    "collapsed": false,
    "jupyter": {
     "outputs_hidden": false
    },
    "pycharm": {
     "name": "#%%\n"
    }
   },
   "outputs": [
    {
     "name": "stdout",
     "output_type": "stream",
     "text": [
      "34.4 μs ± 164 ns per loop (mean ± std. dev. of 7 runs, 10,000 loops each)\n"
     ]
    }
   ],
   "source": [
    "%timeit shuffle_product_torch(ell_torch, ell_torch, shuffle_operator_torch)"
   ]
  },
  {
   "cell_type": "code",
   "execution_count": 637,
   "metadata": {
    "collapsed": false,
    "jupyter": {
     "outputs_hidden": false
    },
    "pycharm": {
     "name": "#%%\n"
    }
   },
   "outputs": [],
   "source": [
    "T = 10\n",
    "N = 1000\n",
    "t = np.linspace(start=0, stop=T, num=N)\n",
    "\n",
    "sigma = make_linear_form_timedep(ell, t=t, region=theta, beta=kappa, shuop=shuffle_operator)"
   ]
  },
  {
   "cell_type": "code",
   "execution_count": 638,
   "metadata": {
    "collapsed": false,
    "jupyter": {
     "outputs_hidden": false
    },
    "pycharm": {
     "name": "#%%\n"
    }
   },
   "outputs": [],
   "source": [
    "@nb.jit(parallel=True)\n",
    "def shuffle_product_batch_numba(linear_left, linear_right, shuop):\n",
    "    linear_result = np.empty(shape=(N, shuop[-1, 0]+1))\n",
    "    for j in nb.prange(linear_left.shape[0]):\n",
    "        linear_result[j] = shuffle_product_numba(linear_left[j], linear_right[j], shuop)\n",
    "    return linear_result\n",
    "\n",
    "def shuffle_product_batch_numpy(linear_left, linear_right, shuop):\n",
    "    index_result, index_left, index_right, count = shuop.T\n",
    "    source = count * linear_left[:, index_left] * linear_right[:, index_right]\n",
    "    linear_result = np.zeros(shape=(index_result[-1]+1, source.shape[0]))\n",
    "    np.add.at(linear_result, index_result, source.T)\n",
    "    return linear_result.T\n",
    "\n",
    "def shuffle_product_batch_torch(linear_left, linear_right, shuop):\n",
    "    index_result, index_left, index_right, count = shuop.T\n",
    "    source = count * linear_left[:, index_left] * linear_right[:, index_right]\n",
    "    linear_result = torch.zeros(size=(source.shape[0], index_result[-1]+1), dtype=source.dtype, device=source.device)\n",
    "    index_result = torch.tile(index_result, dims=(source.shape[0], 1))\n",
    "    linear_result.scatter_add_(dim=1, index=index_result, src=source)\n",
    "    return linear_result"
   ]
  },
  {
   "cell_type": "code",
   "execution_count": 639,
   "metadata": {
    "collapsed": false,
    "jupyter": {
     "outputs_hidden": false
    },
    "pycharm": {
     "name": "#%%\n"
    }
   },
   "outputs": [
    {
     "data": {
      "text/plain": [
       "array([[ 2.00000000e-01,  5.45572809e-01,  5.36656315e-01, ...,\n",
       "         6.67686320e+01,  5.68434189e-14,  0.00000000e+00],\n",
       "       [ 1.93136652e-01,  5.15087370e-01,  5.06669110e-01, ...,\n",
       "         6.16302801e+01, -7.03731927e+00,  0.00000000e+00],\n",
       "       [ 1.86655551e-01,  4.86496631e-01,  4.78545640e-01, ...,\n",
       "         5.68873633e+01, -1.32568556e+01,  0.00000000e+00],\n",
       "       ...,\n",
       "       [ 6.25000000e-02,  1.40370804e-18,  1.38076673e-18, ...,\n",
       "         1.41439463e-33, -8.58947370e-16,  0.00000000e+00],\n",
       "       [ 6.25000000e-02,  1.34861387e-18,  1.32657298e-18, ...,\n",
       "         1.30554625e-33, -8.25234519e-16,  0.00000000e+00],\n",
       "       [ 6.25000000e-02,  1.29568208e-18,  1.27450628e-18, ...,\n",
       "         1.20507458e-33, -7.92844865e-16,  0.00000000e+00]])"
      ]
     },
     "execution_count": 639,
     "metadata": {},
     "output_type": "execute_result"
    }
   ],
   "source": [
    "sigma_squared_numba = shuffle_product_batch_numba(sigma.array, sigma.array, shuffle_operator)\n",
    "sigma_squared_numba"
   ]
  },
  {
   "cell_type": "code",
   "execution_count": 640,
   "metadata": {
    "collapsed": false,
    "jupyter": {
     "outputs_hidden": false
    },
    "pycharm": {
     "name": "#%%\n"
    }
   },
   "outputs": [
    {
     "data": {
      "text/plain": [
       "array([[ 2.00000000e-01,  5.45572809e-01,  5.36656315e-01, ...,\n",
       "         6.67686320e+01,  5.68434189e-14,  0.00000000e+00],\n",
       "       [ 1.93136652e-01,  5.15087370e-01,  5.06669110e-01, ...,\n",
       "         6.16302801e+01, -7.03731927e+00,  0.00000000e+00],\n",
       "       [ 1.86655551e-01,  4.86496631e-01,  4.78545640e-01, ...,\n",
       "         5.68873633e+01, -1.32568556e+01,  0.00000000e+00],\n",
       "       ...,\n",
       "       [ 6.25000000e-02,  1.40370804e-18,  1.38076673e-18, ...,\n",
       "         1.41439463e-33, -8.58947370e-16,  0.00000000e+00],\n",
       "       [ 6.25000000e-02,  1.34861387e-18,  1.32657298e-18, ...,\n",
       "         1.30554625e-33, -8.25234519e-16,  0.00000000e+00],\n",
       "       [ 6.25000000e-02,  1.29568208e-18,  1.27450628e-18, ...,\n",
       "         1.20507458e-33, -7.92844865e-16,  0.00000000e+00]])"
      ]
     },
     "execution_count": 640,
     "metadata": {},
     "output_type": "execute_result"
    }
   ],
   "source": [
    "sigma_squared_numpy = shuffle_product_batch_numpy(sigma, sigma, shuffle_operator)\n",
    "sigma_squared_numpy"
   ]
  },
  {
   "cell_type": "code",
   "execution_count": 646,
   "metadata": {
    "collapsed": false,
    "jupyter": {
     "outputs_hidden": false
    },
    "pycharm": {
     "name": "#%%\n"
    }
   },
   "outputs": [
    {
     "data": {
      "text/plain": [
       "array([[ 2.00000000e-01,  5.45572809e-01,  5.36656315e-01, ...,\n",
       "         6.67686320e+01,  5.68434189e-14,  0.00000000e+00],\n",
       "       [ 1.93136652e-01,  5.15087370e-01,  5.06669110e-01, ...,\n",
       "         6.16302801e+01, -7.03731927e+00,  0.00000000e+00],\n",
       "       [ 1.86655551e-01,  4.86496631e-01,  4.78545640e-01, ...,\n",
       "         5.68873633e+01, -1.32568556e+01,  0.00000000e+00],\n",
       "       ...,\n",
       "       [ 6.25000000e-02,  1.40370804e-18,  1.38076673e-18, ...,\n",
       "         1.41439463e-33, -8.58947370e-16,  0.00000000e+00],\n",
       "       [ 6.25000000e-02,  1.34861387e-18,  1.32657298e-18, ...,\n",
       "         1.30554625e-33, -8.25234519e-16,  0.00000000e+00],\n",
       "       [ 6.25000000e-02,  1.29568208e-18,  1.27450628e-18, ...,\n",
       "         1.20507458e-33, -7.92844865e-16,  0.00000000e+00]])"
      ]
     },
     "execution_count": 646,
     "metadata": {},
     "output_type": "execute_result"
    }
   ],
   "source": [
    "torch.set_default_device(\"cpu\")     # \"cuda\" if you have a nvidia GPU\n",
    "sigma_torch = torch.from_numpy(sigma.array).double()\n",
    "shuffle_operator_torch = torch.from_numpy(shuffle_operator).long()\n",
    "sigma_squared_torch = shuffle_product_batch_torch(sigma_torch, sigma_torch, shuffle_operator_torch).numpy()\n",
    "sigma_squared_torch"
   ]
  },
  {
   "cell_type": "code",
   "execution_count": 647,
   "metadata": {
    "collapsed": false,
    "jupyter": {
     "outputs_hidden": false
    },
    "pycharm": {
     "name": "#%%\n"
    }
   },
   "outputs": [
    {
     "name": "stdout",
     "output_type": "stream",
     "text": [
      "True\n",
      "True\n"
     ]
    }
   ],
   "source": [
    "print(np.allclose(sigma_squared_numba, sigma_squared_numpy))\n",
    "print(np.allclose(sigma_squared_numba, sigma_squared_torch))"
   ]
  },
  {
   "cell_type": "code",
   "execution_count": 438,
   "metadata": {
    "collapsed": false,
    "jupyter": {
     "outputs_hidden": false
    },
    "pycharm": {
     "name": "#%%\n"
    }
   },
   "outputs": [
    {
     "name": "stdout",
     "output_type": "stream",
     "text": [
      "1.45 ms ± 9.79 μs per loop (mean ± std. dev. of 7 runs, 1,000 loops each)\n"
     ]
    }
   ],
   "source": [
    "%timeit shuffle_product_batch_numba(sigma.array, sigma.array, shuffle_operator)"
   ]
  },
  {
   "cell_type": "code",
   "execution_count": 439,
   "metadata": {
    "collapsed": false,
    "jupyter": {
     "outputs_hidden": false
    },
    "pycharm": {
     "name": "#%%\n"
    }
   },
   "outputs": [
    {
     "name": "stdout",
     "output_type": "stream",
     "text": [
      "16 ms ± 138 μs per loop (mean ± std. dev. of 7 runs, 100 loops each)\n"
     ]
    }
   ],
   "source": [
    "%timeit shuffle_product_batch_numpy(sigma, sigma, shuffle_operator)"
   ]
  },
  {
   "cell_type": "code",
   "execution_count": 648,
   "metadata": {
    "collapsed": false,
    "jupyter": {
     "outputs_hidden": false
    },
    "pycharm": {
     "name": "#%%\n"
    }
   },
   "outputs": [
    {
     "name": "stdout",
     "output_type": "stream",
     "text": [
      "2.63 ms ± 89.3 μs per loop (mean ± std. dev. of 7 runs, 100 loops each)\n"
     ]
    }
   ],
   "source": [
    "%timeit shuffle_product_batch_torch(sigma_torch, sigma_torch, shuffle_operator_torch).numpy()"
   ]
  },
  {
   "cell_type": "code",
   "execution_count": 564,
   "metadata": {
    "collapsed": false,
    "jupyter": {
     "outputs_hidden": false
    },
    "pycharm": {
     "name": "#%%\n"
    }
   },
   "outputs": [],
   "source": [
    "from itertools import combinations\n",
    "from functools import cache\n",
    "\n",
    "def concatenate(words, letter: str):\n",
    "    return [word + letter for word in words]\n",
    "\n",
    "@cache\n",
    "def riffle_shuffle(left_word: str, right_word: str):\n",
    "    if left_word in [\"\", \"ø\", \"0\"]:\n",
    "        return [right_word]\n",
    "    if right_word in [\"\", \"ø\", \"0\"]:\n",
    "        return [left_word]\n",
    "\n",
    "    u, i = left_word[:-1], left_word[-1]\n",
    "    v, j = right_word[:-1], right_word[-1]\n",
    "\n",
    "    left_half_shuffle = concatenate(words=riffle_shuffle(left_word=u, right_word=right_word), letter=i)\n",
    "    right_half_shuffle = concatenate(words=riffle_shuffle(left_word=left_word, right_word=v), letter=j)\n",
    "\n",
    "    return [*left_half_shuffle, *right_half_shuffle]"
   ]
  },
  {
   "cell_type": "code",
   "execution_count": 661,
   "metadata": {
    "collapsed": false,
    "jupyter": {
     "outputs_hidden": false
    },
    "pycharm": {
     "name": "#%%\n"
    }
   },
   "outputs": [
    {
     "data": {
      "text/plain": [
       "['1234', '1324', '1342', '3124', '3142', '3412']"
      ]
     },
     "execution_count": 661,
     "metadata": {},
     "output_type": "execute_result"
    }
   ],
   "source": [
    "u = \"12\"\n",
    "v = \"34\"\n",
    "w = u+v\n",
    "u_v_str = sorted(riffle_shuffle(u, v))\n",
    "u_v_str"
   ]
  },
  {
   "cell_type": "code",
   "execution_count": 662,
   "metadata": {
    "collapsed": false,
    "jupyter": {
     "outputs_hidden": false
    },
    "pycharm": {
     "name": "#%%\n"
    }
   },
   "outputs": [
    {
     "data": {
      "text/plain": [
       "array([[0, 1, 2, 3],\n",
       "       [0, 2, 1, 3],\n",
       "       [0, 3, 1, 2],\n",
       "       [1, 2, 0, 3],\n",
       "       [1, 3, 0, 2],\n",
       "       [2, 3, 0, 1]])"
      ]
     },
     "execution_count": 662,
     "metadata": {},
     "output_type": "execute_result"
    }
   ],
   "source": [
    "p, q = len(u), len(v)\n",
    "indices = np.concatenate([\n",
    "    np.stack([*combinations(iterable=np.arange(p+q), r=p)], axis=0),\n",
    "    np.stack([*combinations(iterable=np.arange(p+q), r=q)], axis=0)[::-1],\n",
    "], axis=1)\n",
    "indices"
   ]
  },
  {
   "cell_type": "code",
   "execution_count": 663,
   "metadata": {
    "collapsed": false,
    "jupyter": {
     "outputs_hidden": false
    },
    "pycharm": {
     "name": "#%%\n"
    }
   },
   "outputs": [
    {
     "data": {
      "text/plain": [
       "array([1, 2, 3, 4])"
      ]
     },
     "execution_count": 663,
     "metadata": {},
     "output_type": "execute_result"
    }
   ],
   "source": [
    "uv = np.array([*w]).astype(int)\n",
    "uv"
   ]
  },
  {
   "cell_type": "code",
   "execution_count": 664,
   "metadata": {
    "collapsed": false,
    "jupyter": {
     "outputs_hidden": false
    },
    "pycharm": {
     "name": "#%%\n"
    }
   },
   "outputs": [
    {
     "data": {
      "text/plain": [
       "array([1234, 1324, 1342, 3124, 3142, 3412])"
      ]
     },
     "execution_count": 664,
     "metadata": {},
     "output_type": "execute_result"
    }
   ],
   "source": [
    "powers = p+q-1 - indices\n",
    "u_v_int = np.sum(uv * (10 ** powers), axis=1)\n",
    "u_v_int"
   ]
  },
  {
   "cell_type": "code",
   "execution_count": null,
   "metadata": {
    "collapsed": false,
    "jupyter": {
     "outputs_hidden": false
    },
    "pycharm": {
     "name": "#%%\n"
    }
   },
   "outputs": [],
   "source": []
  }
 ],
 "metadata": {
  "kernelspec": {
   "display_name": "Python 3 (ipykernel)",
   "language": "python",
   "name": "python3"
  },
  "language_info": {
   "codemirror_mode": {
    "name": "ipython",
    "version": 3
   },
   "file_extension": ".py",
   "mimetype": "text/x-python",
   "name": "python",
   "nbconvert_exporter": "python",
   "pygments_lexer": "ipython3",
   "version": "3.9.13"
  }
 },
 "nbformat": 4,
 "nbformat_minor": 4
}
