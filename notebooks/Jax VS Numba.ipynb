{
 "cells": [
  {
   "cell_type": "markdown",
   "id": "0ec05c20-c4ca-43c7-b120-012fdf05e59b",
   "metadata": {},
   "source": [
    "## \"For\" loops"
   ]
  },
  {
   "cell_type": "code",
   "execution_count": 8,
   "id": "b939b730-0f54-402a-a546-1fca6f7827d5",
   "metadata": {},
   "outputs": [],
   "source": [
    "import numpy as np\n",
    "import numba\n",
    "\n",
    "@numba.jit(nopython=True)\n",
    "def numba_loops(arr):\n",
    "    n = arr.shape[0]\n",
    "    result = 0.0\n",
    "    for i in range(n):\n",
    "        result += arr[i] ** 2\n",
    "    return result"
   ]
  },
  {
   "cell_type": "code",
   "execution_count": 9,
   "id": "3c02ca51-78c4-42a9-8cb3-25daf15adb64",
   "metadata": {},
   "outputs": [
    {
     "name": "stdout",
     "output_type": "stream",
     "text": [
      "10.4 ms ± 533 µs per loop (mean ± std. dev. of 7 runs, 100 loops each)\n"
     ]
    }
   ],
   "source": [
    "%%timeit\n",
    "arr = np.random.rand(1000000)\n",
    "numba_loops(arr)  # Very fast"
   ]
  },
  {
   "cell_type": "code",
   "execution_count": 10,
   "id": "488fbca4-121c-47ae-8998-5f160dc389d4",
   "metadata": {},
   "outputs": [],
   "source": [
    "import jax.numpy as jnp\n",
    "from jax import jit\n",
    "\n",
    "@jit\n",
    "def jax_loops(arr):\n",
    "    n = arr.shape[0]\n",
    "    result = 0.0\n",
    "    for i in range(n):  # JAX does not optimize this well\n",
    "        result += arr[i] ** 2\n",
    "    return result"
   ]
  },
  {
   "cell_type": "code",
   "execution_count": 11,
   "id": "40a7f42e-5f61-4faf-a11c-86d816a73153",
   "metadata": {},
   "outputs": [
    {
     "name": "stdout",
     "output_type": "stream",
     "text": [
      "34.125214\n",
      "CPU times: total: 31.2 ms\n",
      "Wall time: 157 ms\n"
     ]
    }
   ],
   "source": [
    "%%time\n",
    "arr = jnp.array(np.random.rand(100))\n",
    "print(jax_loops(arr))  # Not as fast as Numba"
   ]
  },
  {
   "cell_type": "code",
   "execution_count": 12,
   "id": "36645b51-dd10-4422-8a28-9d097744b4de",
   "metadata": {},
   "outputs": [],
   "source": [
    "def python_loops(arr):\n",
    "    n = arr.shape[0]\n",
    "    result = 0.0\n",
    "    for i in range(n):  # JAX does not optimize this well\n",
    "        result += arr[i] ** 2\n",
    "    return result"
   ]
  },
  {
   "cell_type": "code",
   "execution_count": 13,
   "id": "3a47b5fb-10ab-499e-be6e-b15024b75f51",
   "metadata": {},
   "outputs": [
    {
     "name": "stdout",
     "output_type": "stream",
     "text": [
      "3322.3618\n",
      "CPU times: total: 719 ms\n",
      "Wall time: 1.61 s\n"
     ]
    }
   ],
   "source": [
    "%%time\n",
    "arr = jnp.array(np.random.rand(10**4))\n",
    "print(python_loops(arr))  # Not as fast as Numba"
   ]
  },
  {
   "cell_type": "markdown",
   "id": "21333ccc-2c1c-4651-9450-c2f454d342b5",
   "metadata": {},
   "source": [
    "Very bad results when using Python for and JAX"
   ]
  },
  {
   "cell_type": "markdown",
   "id": "6394c961-1e1c-4983-8bdf-1d558aea9add",
   "metadata": {},
   "source": [
    "## ODE solver"
   ]
  },
  {
   "cell_type": "markdown",
   "id": "4f971647-4352-4ab5-b4f2-d632a3c32bb0",
   "metadata": {},
   "source": [
    "#### JAX approach"
   ]
  },
  {
   "cell_type": "code",
   "execution_count": 14,
   "id": "aa9b9b09-cbf2-4b79-972c-ffbc79a6e738",
   "metadata": {},
   "outputs": [],
   "source": [
    "import jax.numpy as jnp\n",
    "import jax.lax as lax\n",
    "from jax import jit\n",
    "\n",
    "def f(x, t):  \n",
    "    return -x  # Example: Simple exponential decay dx/dt = -x\n",
    "\n",
    "def step(carry, t):\n",
    "    x, h = carry\n",
    "    x_new = x + h * f(x, t)  # Euler step\n",
    "    return (x_new, h), x_new  # (carry, output)"
   ]
  },
  {
   "cell_type": "code",
   "execution_count": 17,
   "id": "268f1f52-8bb5-4e67-8452-0ce0061d8460",
   "metadata": {},
   "outputs": [],
   "source": [
    "@jit\n",
    "def solve_euler(x0, h, t_array):\n",
    "    carry = (x0, h)\n",
    "    carry, x_values = lax.scan(step, carry, t_array)\n",
    "    return x_values  # Solution for all timesteps"
   ]
  },
  {
   "cell_type": "code",
   "execution_count": 85,
   "id": "34c000fd-a849-4336-a087-071673b796ac",
   "metadata": {},
   "outputs": [],
   "source": [
    "n_steps = 10**5"
   ]
  },
  {
   "cell_type": "code",
   "execution_count": 86,
   "id": "670e272f-9dd1-4b32-a506-545acc0aeb4b",
   "metadata": {},
   "outputs": [],
   "source": [
    "t_array = jnp.linspace(0, 10, n_steps)  # Time steps\n",
    "h = t_array[1] - t_array[0]  # Step size\n",
    "x0 = jnp.array(1.0)  # Initial condition"
   ]
  },
  {
   "cell_type": "code",
   "execution_count": 87,
   "id": "404c6b12-26af-45c3-a419-512c40623b85",
   "metadata": {},
   "outputs": [
    {
     "name": "stdout",
     "output_type": "stream",
     "text": [
      "179 µs ± 1.97 µs per loop (mean ± std. dev. of 7 runs, 10,000 loops each)\n"
     ]
    }
   ],
   "source": [
    "%%timeit\n",
    "\n",
    "solution = solve_euler(x0, h, t_array)"
   ]
  },
  {
   "cell_type": "markdown",
   "id": "13c7a541-1112-425f-9ee2-5b1490049c0f",
   "metadata": {},
   "source": [
    "#### Naïve approach"
   ]
  },
  {
   "cell_type": "code",
   "execution_count": 88,
   "id": "1aa65820-d8ef-4ffb-a146-89880a8fd5f0",
   "metadata": {},
   "outputs": [],
   "source": [
    "def euler_naive(x0, h, t_array):\n",
    "    x = np.zeros(len(t_array))\n",
    "    x[0] = x0\n",
    "    for i, t in enumerate(t_array[:-1]):\n",
    "        x[i + 1] = x[i] + h * f(x[i], t)  # Euler update\n",
    "\n",
    "    return np.array(x)"
   ]
  },
  {
   "cell_type": "code",
   "execution_count": 89,
   "id": "c185871b-f2aa-4aef-9f3b-f2e940208749",
   "metadata": {},
   "outputs": [
    {
     "name": "stdout",
     "output_type": "stream",
     "text": [
      "3.05 s ± 101 ms per loop (mean ± std. dev. of 7 runs, 1 loop each)\n"
     ]
    }
   ],
   "source": [
    "%%timeit\n",
    "\n",
    "solution = euler_naive(x0, h, t_array)"
   ]
  },
  {
   "cell_type": "markdown",
   "id": "31d5ccdf-1107-4b6a-8c8c-577cd28cb09e",
   "metadata": {},
   "source": [
    "#### Numba"
   ]
  },
  {
   "cell_type": "code",
   "execution_count": 90,
   "id": "1ec943a5-e764-4c53-87db-fc3899f79214",
   "metadata": {},
   "outputs": [],
   "source": [
    "import numpy as np\n",
    "import numba\n",
    "\n",
    "@numba.njit\n",
    "def solve_euler_numba(x0, h, t_array):\n",
    "    n = t_array.shape[0]\n",
    "    x_values = np.empty(n, dtype=np.float64)  \n",
    "    x_values[0] = x0\n",
    "    \n",
    "    for i in range(n - 1):\n",
    "        x_values[i + 1] = x_values[i] + h * (-x_values[i])  # dx/dt = -x\n",
    "\n",
    "    return x_values"
   ]
  },
  {
   "cell_type": "code",
   "execution_count": 93,
   "id": "90744d57-3321-4f10-8ddc-49ed131fc035",
   "metadata": {},
   "outputs": [],
   "source": [
    "t_array_np = np.linspace(0, 10, n_steps)  # Time steps\n",
    "h_np = t_array_np[1] - t_array_np[0]  # Step size\n",
    "x0_np = np.array(1.0)  # Initial condition"
   ]
  },
  {
   "cell_type": "code",
   "execution_count": 94,
   "id": "e6a2fb35-9f6d-462b-805f-d3598b38c473",
   "metadata": {},
   "outputs": [
    {
     "name": "stdout",
     "output_type": "stream",
     "text": [
      "246 µs ± 4.55 µs per loop (mean ± std. dev. of 7 runs, 1,000 loops each)\n"
     ]
    }
   ],
   "source": [
    "%%timeit\n",
    "solution = solve_euler_numba(x0_np, h_np, t_array_np)"
   ]
  },
  {
   "cell_type": "markdown",
   "id": "4e9a9845-f599-421b-9d71-a57352a8d669",
   "metadata": {},
   "source": [
    "#### Jax gives the best results for many timesteps when used wisely"
   ]
  }
 ],
 "metadata": {
  "kernelspec": {
   "display_name": "Python 3 (ipykernel)",
   "language": "python",
   "name": "python3"
  },
  "language_info": {
   "codemirror_mode": {
    "name": "ipython",
    "version": 3
   },
   "file_extension": ".py",
   "mimetype": "text/x-python",
   "name": "python",
   "nbconvert_exporter": "python",
   "pygments_lexer": "ipython3",
   "version": "3.9.20"
  }
 },
 "nbformat": 4,
 "nbformat_minor": 5
}
