{
 "cells": [
  {
   "cell_type": "markdown",
   "id": "0ec05c20-c4ca-43c7-b120-012fdf05e59b",
   "metadata": {},
   "source": [
    "## \"For\" loops"
   ]
  },
  {
   "cell_type": "code",
   "execution_count": 1,
   "id": "b939b730-0f54-402a-a546-1fca6f7827d5",
   "metadata": {},
   "outputs": [],
   "source": [
    "import numpy as np\n",
    "import numba\n",
    "\n",
    "@numba.jit(nopython=True)\n",
    "def numba_loops(arr):\n",
    "    n = arr.shape[0]\n",
    "    result = 0.0\n",
    "    for i in range(n):\n",
    "        result += arr[i] ** 2\n",
    "    return result"
   ]
  },
  {
   "cell_type": "code",
   "execution_count": 118,
   "id": "3c02ca51-78c4-42a9-8cb3-25daf15adb64",
   "metadata": {},
   "outputs": [
    {
     "name": "stdout",
     "output_type": "stream",
     "text": [
      "11.2 ms ± 995 µs per loop (mean ± std. dev. of 7 runs, 100 loops each)\n"
     ]
    }
   ],
   "source": [
    "%%timeit\n",
    "arr = np.random.rand(1000000)\n",
    "numba_loops(arr)  # Very fast"
   ]
  },
  {
   "cell_type": "code",
   "execution_count": 119,
   "id": "488fbca4-121c-47ae-8998-5f160dc389d4",
   "metadata": {},
   "outputs": [],
   "source": [
    "import jax.numpy as jnp\n",
    "jax.config.update(\"jax_enable_x64\", True)\n",
    "from jax import jit\n",
    "\n",
    "@jit\n",
    "def jax_loops(arr):\n",
    "    n = arr.shape[0]\n",
    "    result = 0.0\n",
    "    for i in range(n):  # JAX does not optimize this well\n",
    "        result += arr[i] ** 2\n",
    "    return result"
   ]
  },
  {
   "cell_type": "code",
   "execution_count": 4,
   "id": "40a7f42e-5f61-4faf-a11c-86d816a73153",
   "metadata": {},
   "outputs": [
    {
     "name": "stdout",
     "output_type": "stream",
     "text": [
      "37.300316\n",
      "CPU times: total: 93.8 ms\n",
      "Wall time: 184 ms\n"
     ]
    }
   ],
   "source": [
    "%%time\n",
    "arr = jnp.array(np.random.rand(100))\n",
    "print(jax_loops(arr))  # Not as fast as Numba"
   ]
  },
  {
   "cell_type": "code",
   "execution_count": 5,
   "id": "36645b51-dd10-4422-8a28-9d097744b4de",
   "metadata": {},
   "outputs": [],
   "source": [
    "def python_loops(arr):\n",
    "    n = arr.shape[0]\n",
    "    result = 0.0\n",
    "    for i in range(n):  # JAX does not optimize this well\n",
    "        result += arr[i] ** 2\n",
    "    return result"
   ]
  },
  {
   "cell_type": "code",
   "execution_count": 6,
   "id": "3a47b5fb-10ab-499e-be6e-b15024b75f51",
   "metadata": {},
   "outputs": [
    {
     "name": "stdout",
     "output_type": "stream",
     "text": [
      "3342.7043\n",
      "CPU times: total: 1.12 s\n",
      "Wall time: 1.44 s\n"
     ]
    }
   ],
   "source": [
    "%%time\n",
    "arr = jnp.array(np.random.rand(10**4))\n",
    "print(python_loops(arr))  # Not as fast as Numba"
   ]
  },
  {
   "cell_type": "markdown",
   "id": "21333ccc-2c1c-4651-9450-c2f454d342b5",
   "metadata": {},
   "source": [
    "Very bad results when using Python for and JAX"
   ]
  },
  {
   "cell_type": "markdown",
   "id": "6394c961-1e1c-4983-8bdf-1d558aea9add",
   "metadata": {},
   "source": [
    "## ODE solver"
   ]
  },
  {
   "cell_type": "markdown",
   "id": "4f971647-4352-4ab5-b4f2-d632a3c32bb0",
   "metadata": {},
   "source": [
    "#### JAX approach"
   ]
  },
  {
   "cell_type": "code",
   "execution_count": 7,
   "id": "aa9b9b09-cbf2-4b79-972c-ffbc79a6e738",
   "metadata": {},
   "outputs": [],
   "source": [
    "import jax.numpy as jnp\n",
    "import jax.lax as lax\n",
    "from jax import jit\n",
    "\n",
    "def f(x, t):  \n",
    "    return -x  # Example: Simple exponential decay dx/dt = -x\n",
    "\n",
    "def step(carry, t):\n",
    "    x, h = carry\n",
    "    x_new = x + h * f(x, t)  # Euler step\n",
    "    return (x_new, h), x_new  # (carry, output)"
   ]
  },
  {
   "cell_type": "code",
   "execution_count": 8,
   "id": "268f1f52-8bb5-4e67-8452-0ce0061d8460",
   "metadata": {},
   "outputs": [],
   "source": [
    "@jit\n",
    "def solve_euler(x0, h, t_array):\n",
    "    carry = (x0, h)\n",
    "    carry, x_values = lax.scan(step, carry, t_array)\n",
    "    return x_values  # Solution for all timesteps"
   ]
  },
  {
   "cell_type": "code",
   "execution_count": 9,
   "id": "34c000fd-a849-4336-a087-071673b796ac",
   "metadata": {},
   "outputs": [],
   "source": [
    "n_steps = 10**5"
   ]
  },
  {
   "cell_type": "code",
   "execution_count": 10,
   "id": "670e272f-9dd1-4b32-a506-545acc0aeb4b",
   "metadata": {},
   "outputs": [],
   "source": [
    "t_array = jnp.linspace(0, 10, n_steps)  # Time steps\n",
    "h = t_array[1] - t_array[0]  # Step size\n",
    "x0 = jnp.array(1.0)  # Initial condition"
   ]
  },
  {
   "cell_type": "code",
   "execution_count": 11,
   "id": "404c6b12-26af-45c3-a419-512c40623b85",
   "metadata": {},
   "outputs": [
    {
     "name": "stdout",
     "output_type": "stream",
     "text": [
      "157 µs ± 15.2 µs per loop (mean ± std. dev. of 7 runs, 10,000 loops each)\n"
     ]
    }
   ],
   "source": [
    "%%timeit\n",
    "\n",
    "solution = solve_euler(x0, h, t_array)"
   ]
  },
  {
   "cell_type": "markdown",
   "id": "13c7a541-1112-425f-9ee2-5b1490049c0f",
   "metadata": {},
   "source": [
    "#### Naïve approach"
   ]
  },
  {
   "cell_type": "code",
   "execution_count": 12,
   "id": "1aa65820-d8ef-4ffb-a146-89880a8fd5f0",
   "metadata": {},
   "outputs": [],
   "source": [
    "def euler_naive(x0, h, t_array):\n",
    "    x = np.zeros(len(t_array))\n",
    "    x[0] = x0\n",
    "    for i, t in enumerate(t_array[:-1]):\n",
    "        x[i + 1] = x[i] + h * f(x[i], t)  # Euler update\n",
    "\n",
    "    return np.array(x)"
   ]
  },
  {
   "cell_type": "code",
   "execution_count": 13,
   "id": "c185871b-f2aa-4aef-9f3b-f2e940208749",
   "metadata": {},
   "outputs": [
    {
     "name": "stdout",
     "output_type": "stream",
     "text": [
      "3.1 s ± 111 ms per loop (mean ± std. dev. of 7 runs, 1 loop each)\n"
     ]
    }
   ],
   "source": [
    "%%timeit\n",
    "\n",
    "solution = euler_naive(x0, h, t_array)"
   ]
  },
  {
   "cell_type": "markdown",
   "id": "31d5ccdf-1107-4b6a-8c8c-577cd28cb09e",
   "metadata": {},
   "source": [
    "#### Numba"
   ]
  },
  {
   "cell_type": "code",
   "execution_count": 14,
   "id": "1ec943a5-e764-4c53-87db-fc3899f79214",
   "metadata": {},
   "outputs": [],
   "source": [
    "import numpy as np\n",
    "import numba\n",
    "\n",
    "@numba.njit\n",
    "def solve_euler_numba(x0, h, t_array):\n",
    "    n = t_array.shape[0]\n",
    "    x_values = np.empty(n, dtype=np.float64)  \n",
    "    x_values[0] = x0\n",
    "    \n",
    "    for i in range(n - 1):\n",
    "        x_values[i + 1] = x_values[i] + h * (-x_values[i])  # dx/dt = -x\n",
    "\n",
    "    return x_values"
   ]
  },
  {
   "cell_type": "code",
   "execution_count": 15,
   "id": "90744d57-3321-4f10-8ddc-49ed131fc035",
   "metadata": {},
   "outputs": [],
   "source": [
    "t_array_np = np.linspace(0, 10, n_steps)  # Time steps\n",
    "h_np = t_array_np[1] - t_array_np[0]  # Step size\n",
    "x0_np = np.array(1.0)  # Initial condition"
   ]
  },
  {
   "cell_type": "code",
   "execution_count": 16,
   "id": "e6a2fb35-9f6d-462b-805f-d3598b38c473",
   "metadata": {},
   "outputs": [
    {
     "name": "stdout",
     "output_type": "stream",
     "text": [
      "196 µs ± 4.6 µs per loop (mean ± std. dev. of 7 runs, 1 loop each)\n"
     ]
    }
   ],
   "source": [
    "%%timeit\n",
    "solution = solve_euler_numba(x0_np, h_np, t_array_np)"
   ]
  },
  {
   "cell_type": "markdown",
   "id": "4e9a9845-f599-421b-9d71-a57352a8d669",
   "metadata": {},
   "source": [
    "#### Jax gives the best results for many timesteps when used wisely"
   ]
  },
  {
   "cell_type": "markdown",
   "id": "7e7811c2-742c-45b3-9de1-65f646600431",
   "metadata": {},
   "source": [
    "## Creation of shuffle tables"
   ]
  },
  {
   "cell_type": "code",
   "execution_count": 8,
   "id": "0b569637-32fd-4eeb-a8c4-3368294b7915",
   "metadata": {},
   "outputs": [
    {
     "name": "stdout",
     "output_type": "stream",
     "text": [
      "The autoreload extension is already loaded. To reload it, use:\n",
      "  %reload_ext autoreload\n"
     ]
    }
   ],
   "source": [
    "%load_ext autoreload\n",
    "%autoreload 2\n",
    "import sys\n",
    "if \"../..\" not in sys.path:\n",
    "    sys.path.append(\"../..\")\n",
    "\n",
    "from signature.signature.jax_signature.shuffle_table import get_shuffle_table"
   ]
  },
  {
   "cell_type": "code",
   "execution_count": 22,
   "id": "acd28216-8f93-4948-8083-82d5e404febe",
   "metadata": {},
   "outputs": [],
   "source": [
    "table_trunc = 10\n",
    "dim = 2"
   ]
  },
  {
   "cell_type": "code",
   "execution_count": 23,
   "id": "7f2b4a13-534b-4c78-b036-9a0603b06a3b",
   "metadata": {},
   "outputs": [
    {
     "name": "stdout",
     "output_type": "stream",
     "text": [
      "CPU times: total: 1.88 s\n",
      "Wall time: 2.12 s\n"
     ]
    }
   ],
   "source": [
    "%%time\n",
    "table_numba = ShuffleOperator(table_trunc, Alphabet(dim)).shuffle_table.T"
   ]
  },
  {
   "cell_type": "code",
   "execution_count": 24,
   "id": "3d492899-5c31-41e8-9773-f27281ceb180",
   "metadata": {},
   "outputs": [
    {
     "data": {
      "text/plain": [
       "array([[   0,    0,    0,    1],\n",
       "       [   0,    1,    1,    1],\n",
       "       [   0,    2,    2,    1],\n",
       "       ...,\n",
       "       [2044,    0, 2044,    1],\n",
       "       [2045,    0, 2045,    1],\n",
       "       [2046,    0, 2046,    1]], dtype=int64)"
      ]
     },
     "execution_count": 24,
     "metadata": {},
     "output_type": "execute_result"
    }
   ],
   "source": [
    "table_numba"
   ]
  },
  {
   "cell_type": "code",
   "execution_count": 28,
   "id": "02783e74-bd20-4ffc-9371-ee58d735ae47",
   "metadata": {},
   "outputs": [
    {
     "name": "stdout",
     "output_type": "stream",
     "text": [
      "CPU times: total: 1.81 s\n",
      "Wall time: 2.18 s\n"
     ]
    }
   ],
   "source": [
    "%%time\n",
    "table_jax = get_shuffle_table(table_trunc=table_trunc, dim=dim).T"
   ]
  },
  {
   "cell_type": "code",
   "execution_count": 29,
   "id": "5da72cc4-16bf-4ea2-aaeb-bd1dfa348c3b",
   "metadata": {},
   "outputs": [
    {
     "data": {
      "text/plain": [
       "array([[   0,    0,    0,    1],\n",
       "       [   0,    1,    1,    1],\n",
       "       [   0,    2,    2,    1],\n",
       "       ...,\n",
       "       [2044,    0, 2044,    1],\n",
       "       [2045,    0, 2045,    1],\n",
       "       [2046,    0, 2046,    1]])"
      ]
     },
     "execution_count": 29,
     "metadata": {},
     "output_type": "execute_result"
    }
   ],
   "source": [
    "table_jax"
   ]
  },
  {
   "cell_type": "code",
   "execution_count": 30,
   "id": "fa096a2f-7ba3-43f0-891f-e52c0e4010e8",
   "metadata": {},
   "outputs": [
    {
     "data": {
      "text/plain": [
       "True"
      ]
     },
     "execution_count": 30,
     "metadata": {},
     "output_type": "execute_result"
    }
   ],
   "source": [
    "np.allclose(table_jax, table_numba)"
   ]
  },
  {
   "cell_type": "markdown",
   "id": "f499a2e3-47c6-49e0-8c5d-0a85457f7165",
   "metadata": {},
   "source": [
    "## Shuffle product (when the shuffle table is compiled)"
   ]
  },
  {
   "cell_type": "code",
   "execution_count": 5,
   "id": "4ec73aed-055b-4e7a-9468-6a33b3c5ea34",
   "metadata": {},
   "outputs": [
    {
     "ename": "ModuleNotFoundError",
     "evalue": "No module named 'signature.signature.tensor_algebra'",
     "output_type": "error",
     "traceback": [
      "\u001b[1;31m---------------------------------------------------------------------------\u001b[0m",
      "\u001b[1;31mModuleNotFoundError\u001b[0m                       Traceback (most recent call last)",
      "Cell \u001b[1;32mIn[5], line 11\u001b[0m\n\u001b[0;32m      9\u001b[0m \u001b[38;5;28;01mimport\u001b[39;00m \u001b[38;5;21;01mmatplotlib\u001b[39;00m\u001b[38;5;21;01m.\u001b[39;00m\u001b[38;5;21;01mpyplot\u001b[39;00m \u001b[38;5;28;01mas\u001b[39;00m \u001b[38;5;21;01mplt\u001b[39;00m\n\u001b[0;32m     10\u001b[0m \u001b[38;5;28;01mimport\u001b[39;00m \u001b[38;5;21;01mjson\u001b[39;00m\n\u001b[1;32m---> 11\u001b[0m \u001b[38;5;28;01mfrom\u001b[39;00m \u001b[38;5;21;01msignature\u001b[39;00m\u001b[38;5;21;01m.\u001b[39;00m\u001b[38;5;21;01msignature\u001b[39;00m\u001b[38;5;21;01m.\u001b[39;00m\u001b[38;5;21;01mtensor_algebra\u001b[39;00m \u001b[38;5;28;01mimport\u001b[39;00m TensorAlgebra\n\u001b[0;32m     12\u001b[0m \u001b[38;5;28;01mfrom\u001b[39;00m \u001b[38;5;21;01msignature\u001b[39;00m\u001b[38;5;21;01m.\u001b[39;00m\u001b[38;5;21;01msignature\u001b[39;00m\u001b[38;5;21;01m.\u001b[39;00m\u001b[38;5;21;01mtensor_sequence\u001b[39;00m \u001b[38;5;28;01mimport\u001b[39;00m TensorSequence\n\u001b[0;32m     13\u001b[0m \u001b[38;5;28;01mfrom\u001b[39;00m \u001b[38;5;21;01msignature\u001b[39;00m\u001b[38;5;21;01m.\u001b[39;00m\u001b[38;5;21;01msignature\u001b[39;00m\u001b[38;5;21;01m.\u001b[39;00m\u001b[38;5;21;01mstationary_signature\u001b[39;00m \u001b[38;5;28;01mimport\u001b[39;00m stationary_signature_from_path, G\n",
      "\u001b[1;31mModuleNotFoundError\u001b[0m: No module named 'signature.signature.tensor_algebra'"
     ]
    }
   ],
   "source": [
    "%load_ext autoreload\n",
    "%autoreload 2\n",
    "import sys\n",
    "if \"../..\" not in sys.path:\n",
    "    sys.path.append(\"../..\")\n",
    "\n",
    "import numpy as np\n",
    "import matplotlib\n",
    "import matplotlib.pyplot as plt\n",
    "import json\n",
    "from signature.signature.tensor_algebra import TensorAlgebra\n",
    "from signature.signature.tensor_sequence import TensorSequence\n",
    "from signature.signature.stationary_signature import stationary_signature_from_path, G\n",
    "from signature.signature.expected_signature import expected_signature, expected_stationary_signature\n",
    "from scipy.optimize import minimize\n",
    "\n",
    "green = \"#5b6c64\"\n",
    "copper = \"#B56246\"\n",
    "plt.rcParams[\"figure.figsize\"]        = ((1 + np.sqrt(5)) / 2 * 5, 5)\n",
    "plt.rcParams[\"figure.autolayout\"]     = True\n",
    "plt.rcParams[\"patch.force_edgecolor\"] = False\n",
    "plt.rcParams[\"axes.grid\"]             = True\n",
    "plt.rcParams['axes.prop_cycle']       = matplotlib.cycler(color=[green, copper, \"#322B4D\", \"#28BC9C\", \"#71074E\"])"
   ]
  },
  {
   "cell_type": "markdown",
   "id": "cea1dfcc-d800-49ae-8e49-3dca4f35b38f",
   "metadata": {},
   "source": [
    "#### Numba"
   ]
  },
  {
   "cell_type": "code",
   "execution_count": 32,
   "id": "60ef1010-fae6-4849-9025-68ba46322b0e",
   "metadata": {},
   "outputs": [
    {
     "name": "stdout",
     "output_type": "stream",
     "text": [
      "Compiling...\n",
      "Compilation finished.\n",
      "CPU times: total: 1.38 s\n",
      "Wall time: 2.26 s\n"
     ]
    }
   ],
   "source": [
    "%%time\n",
    "\n",
    "table_trunc = 10\n",
    "ts_trunc = 5\n",
    "\n",
    "ta = TensorAlgebra(dim=2, trunc=table_trunc)"
   ]
  },
  {
   "cell_type": "code",
   "execution_count": 33,
   "id": "d537e096-9b87-4a31-b03d-bc4cef8fbe4b",
   "metadata": {},
   "outputs": [],
   "source": [
    "rng = np.random.default_rng(seed=42)\n",
    "array = rng.random(size=ta.alphabet.number_of_elements(ts_trunc))"
   ]
  },
  {
   "cell_type": "code",
   "execution_count": 34,
   "id": "d7a4e988-c515-4917-b26e-618656795a7f",
   "metadata": {},
   "outputs": [],
   "source": [
    "ts = ta.from_array(trunc=table_trunc, array=array)"
   ]
  },
  {
   "cell_type": "code",
   "execution_count": 35,
   "id": "8bb81b0b-ec1a-4de1-a19d-4b4d752c3b91",
   "metadata": {},
   "outputs": [
    {
     "name": "stdout",
     "output_type": "stream",
     "text": [
      "4.49 ms ± 320 µs per loop (mean ± std. dev. of 7 runs, 100 loops each)\n"
     ]
    }
   ],
   "source": [
    "%%timeit\n",
    "res = ta.shuop.shuffle_prod(ts, ts)"
   ]
  },
  {
   "cell_type": "code",
   "execution_count": 36,
   "id": "d181354d-13a3-4df6-b29a-850b964ae6a6",
   "metadata": {},
   "outputs": [
    {
     "data": {
      "text/plain": [
       "array([ 0.59900797,  0.67934525,  1.32903411, ..., 79.59349657,\n",
       "       67.10270751, 80.51194773])"
      ]
     },
     "execution_count": 36,
     "metadata": {},
     "output_type": "execute_result"
    }
   ],
   "source": [
    "res = ta.shuop.shuffle_prod(ts, ts)\n",
    "res.array.squeeze().real"
   ]
  },
  {
   "cell_type": "markdown",
   "id": "abaed30e-659e-4dc7-b5bf-d858bf8cd2a5",
   "metadata": {},
   "source": [
    "#### Pure numpy"
   ]
  },
  {
   "cell_type": "code",
   "execution_count": 37,
   "id": "10e62ea8-c30b-4004-ad41-0cfd124968a6",
   "metadata": {},
   "outputs": [],
   "source": [
    "def __get_extended_array_np(ts: TensorSequence):\n",
    "    n_elements = ta.alphabet.number_of_elements(table_trunc)\n",
    "\n",
    "    new_array = np.zeros((n_elements,) + ts.shape[1:], dtype=complex)\n",
    "    new_array[:min(n_elements, ts.shape[0])] = ts.array[:min(n_elements, ts.shape[0])]\n",
    "    return new_array\n",
    "\n",
    "def shuffle_prod_np(\n",
    "    ts1: TensorSequence,\n",
    "    ts2: TensorSequence,\n",
    "    shuffle_table\n",
    "):\n",
    "    index_left, index_right, index_result, count = shuffle_table\n",
    "\n",
    "    if ts1.trunc < table_trunc:\n",
    "        array_1 = __get_extended_array_np(ts1)\n",
    "    else:\n",
    "        array_1 = ts1.array\n",
    "\n",
    "    if ts2.trunc < table_trunc:\n",
    "        array_2 = __get_extended_array_np(ts2)\n",
    "    else:\n",
    "        array_2 = ts2.array\n",
    "\n",
    "    source = count * array_1[index_left, 0, 0] * array_2[index_right, 0, 0]\n",
    "    linear_result = np.zeros(index_result[-1] + 1, dtype=complex)\n",
    "    for i in range(len(index_result)):\n",
    "        linear_result[index_result[i]] = linear_result[index_result[i]] + source[i]\n",
    "    return TensorSequence(ta.alphabet, table_trunc, linear_result)"
   ]
  },
  {
   "cell_type": "code",
   "execution_count": 38,
   "id": "2b030703-5fca-45e1-a22f-0e7c9cd719b1",
   "metadata": {},
   "outputs": [
    {
     "name": "stdout",
     "output_type": "stream",
     "text": [
      "112 ms ± 9.29 ms per loop (mean ± std. dev. of 7 runs, 10 loops each)\n"
     ]
    }
   ],
   "source": [
    "%%timeit\n",
    "res2 = shuffle_prod_np(ts, ts, ta.shuop.shuffle_table)"
   ]
  },
  {
   "cell_type": "code",
   "execution_count": 39,
   "id": "d79d83c8-c87a-465a-86c2-15440b3903d1",
   "metadata": {},
   "outputs": [
    {
     "name": "stdout",
     "output_type": "stream",
     "text": [
      "\n"
     ]
    }
   ],
   "source": [
    "res2 = shuffle_prod_np(ts, ts, ta.shuop.shuffle_table)\n",
    "ta.print(res2 - res)"
   ]
  },
  {
   "cell_type": "code",
   "execution_count": null,
   "id": "c84db774-19c2-4209-99b8-6b4b44488efe",
   "metadata": {},
   "outputs": [],
   "source": [
    "import jax\n",
    "import jax.numpy as jnp\n",
    "from jax import lax\n",
    "from functools import partial\n",
    "\n",
    "from signature.signature.jax_signature.words import number_of_words_up_to_trunc\n",
    "\n",
    "def change_trunc(ts: jax.Array, trunc: int, dim: int = 2):\n",
    "    n_elements = number_of_words_up_to_trunc(trunc, dim)\n",
    "    new_array = jnp.zeros(n_elements)\n",
    "    new_array = new_array.at[:min(n_elements, ts.shape[0])].set(ts[:min(n_elements, ts.shape[0])])\n",
    "    return new_array\n",
    "\n",
    "@jax.jit\n",
    "def shuffle_prod_jax(\n",
    "    ts1: jax.Array,\n",
    "    ts2: jax.Array,\n",
    "    shuffle_table: jax.Array,\n",
    "):\n",
    "    index_left, index_right, index_result, count = shuffle_table\n",
    "\n",
    "    source = count * ts1[index_left] * ts2[index_right]\n",
    "    linear_result = ts1 * 0\n",
    "    #jnp.zeros(number_of_words_up_to_trunc(trunc)) # index_result[-1] + 1\n",
    "    linear_result = linear_result.at[index_result].add(source)\n",
    "    \n",
    "    return linear_result\n",
    "\n",
    "shuffle_prod_jax_vect = jax.jit(jax.vmap(shuffle_prod_jax, in_axes=(1, 1, None), out_axes=1))"
   ]
  },
  {
   "cell_type": "code",
   "execution_count": null,
   "id": "b6721262-8b10-440f-a770-c32150fa3542",
   "metadata": {},
   "outputs": [
    {
     "data": {
      "text/plain": [
       "Array([0.77395605, 0.43887844, 0.85859792, ..., 0.        , 0.        ,\n",
       "       0.        ], dtype=float64)"
      ]
     },
     "execution_count": 41,
     "metadata": {},
     "output_type": "execute_result"
    }
   ],
   "source": [
    "ts_arr = jnp.array(ts.array.squeeze()).real\n",
    "ts_arr"
   ]
  },
  {
   "cell_type": "code",
   "execution_count": null,
   "id": "ea15c963-a745-4427-b414-0979cc87d96d",
   "metadata": {},
   "outputs": [],
   "source": [
    "ts_arr_2d = jnp.vstack([ts_arr] * 10).T"
   ]
  },
  {
   "cell_type": "code",
   "execution_count": null,
   "id": "c898d638-827d-45a5-9830-d267b04c1153",
   "metadata": {},
   "outputs": [],
   "source": [
    "shuffle_table = get_shuffle_table(table_trunc=table_trunc)"
   ]
  },
  {
   "cell_type": "code",
   "execution_count": null,
   "id": "76b89343-50bc-4ff3-a113-4415f84a4274",
   "metadata": {},
   "outputs": [
    {
     "name": "stdout",
     "output_type": "stream",
     "text": [
      "4.02 ms ± 239 µs per loop (mean ± std. dev. of 7 runs, 100 loops each)\n"
     ]
    }
   ],
   "source": [
    "%%timeit\n",
    "ts_arr_2 = change_trunc(ts=ts_arr, trunc=10)\n",
    "ts_arr_2 = change_trunc(ts=ts_arr, trunc=10)\n",
    "shuffle_prod_jax(ts_arr, ts_arr, shuffle_table=shuffle_table)"
   ]
  },
  {
   "cell_type": "code",
   "execution_count": 49,
   "id": "40a36f79-2a4f-48fb-9d50-15170b74d964",
   "metadata": {},
   "outputs": [],
   "source": [
    "import jax\n",
    "import jax.numpy as jnp\n",
    "from typing import Callable\n",
    "from signature.signature.jax_signature.tensor_sequence_jax import TensorSequenceJAX\n",
    "from signature.signature.jax_signature.operators import discount_ts, semi_integrated_scheme\n",
    "\n",
    "from functools import partial\n",
    "\n",
    "@partial(jax.jit, static_argnames=['fun'])\n",
    "def ode_stat_pece(\n",
    "    fun: Callable,\n",
    "    t_grid: jax.Array,\n",
    "    u: TensorSequenceJAX,\n",
    "    lam: float\n",
    ") -> TensorSequenceJAX:\n",
    "    dt = jnp.diff(t_grid)\n",
    "    \n",
    "    def step_fun(i, psi):\n",
    "        psi_pred = discount_ts(ts=psi, dt=dt[i], lam=lam) + semi_integrated_scheme(ts=fun(psi), dt=dt[i], lam=lam)\n",
    "        psi_next = discount_ts(ts=psi, dt=dt[i], lam=lam) + semi_integrated_scheme(ts=(fun(psi_pred) + fun(psi)) * 0.5, dt=dt[i], lam=lam)\n",
    "        return psi_next\n",
    "    \n",
    "    psi_res = jax.lax.fori_loop(lower=0, upper=len(dt), body_fun=step_fun, init_val=u * 1)\n",
    "    \n",
    "    return psi_res"
   ]
  },
  {
   "cell_type": "code",
   "execution_count": 50,
   "id": "740ed19f-fce8-4766-99fe-bdb27a6924f0",
   "metadata": {},
   "outputs": [],
   "source": [
    "from signature.signature.jax_signature.words import number_of_words_up_to_trunc"
   ]
  },
  {
   "cell_type": "code",
   "execution_count": 51,
   "id": "201270a5-1d32-46c6-8d88-294fe329b8c2",
   "metadata": {},
   "outputs": [],
   "source": [
    "t_grid = jnp.linspace(0, 1, 100)\n",
    "func = lambda ts: ts * (-1)\n",
    "u = TensorSequenceJAX(jnp.ones(number_of_words_up_to_trunc(5, 2)), 5, 2)\n",
    "lam = 3"
   ]
  },
  {
   "cell_type": "code",
   "execution_count": 52,
   "id": "b617b65e-4e31-4db8-a146-bdaed12f8e20",
   "metadata": {},
   "outputs": [
    {
     "data": {
      "text/plain": [
       "[3.67885745e-01 1.83131283e-02 1.83131283e-02 9.11335168e-04\n",
       " 9.11335168e-04 9.11335168e-04 9.11335168e-04 4.53377142e-05\n",
       " 4.53377142e-05 4.53377142e-05 4.53377142e-05 4.53377142e-05\n",
       " 4.53377142e-05 4.53377142e-05 4.53377142e-05 2.25479375e-06\n",
       " 2.25479375e-06 2.25479375e-06 2.25479375e-06 2.25479375e-06\n",
       " 2.25479375e-06 2.25479375e-06 2.25479375e-06 2.25479375e-06\n",
       " 2.25479375e-06 2.25479375e-06 2.25479375e-06 2.25479375e-06\n",
       " 2.25479375e-06 2.25479375e-06 2.25479375e-06 1.12103577e-07\n",
       " 1.12103577e-07 1.12103577e-07 1.12103577e-07 1.12103577e-07\n",
       " 1.12103577e-07 1.12103577e-07 1.12103577e-07 1.12103577e-07\n",
       " 1.12103577e-07 1.12103577e-07 1.12103577e-07 1.12103577e-07\n",
       " 1.12103577e-07 1.12103577e-07 1.12103577e-07 1.12103577e-07\n",
       " 1.12103577e-07 1.12103577e-07 1.12103577e-07 1.12103577e-07\n",
       " 1.12103577e-07 1.12103577e-07 1.12103577e-07 1.12103577e-07\n",
       " 1.12103577e-07 1.12103577e-07 1.12103577e-07 1.12103577e-07\n",
       " 1.12103577e-07 1.12103577e-07 1.12103577e-07]"
      ]
     },
     "execution_count": 52,
     "metadata": {},
     "output_type": "execute_result"
    }
   ],
   "source": [
    "ode_stat_pece(func, t_grid, u, lam)"
   ]
  },
  {
   "cell_type": "code",
   "execution_count": 37,
   "id": "e39ee6d9-580d-4102-8da8-eac92f41ca65",
   "metadata": {},
   "outputs": [
    {
     "data": {
      "text/plain": [
       "[3.67885745e-01 1.83131283e-02 1.83131283e-02 9.11335168e-04\n",
       " 9.11335168e-04 9.11335168e-04 9.11335168e-04 4.53377142e-05\n",
       " 4.53377142e-05 4.53377142e-05 4.53377142e-05 4.53377142e-05\n",
       " 4.53377142e-05 4.53377142e-05 4.53377142e-05 2.25479375e-06\n",
       " 2.25479375e-06 2.25479375e-06 2.25479375e-06 2.25479375e-06\n",
       " 2.25479375e-06 2.25479375e-06 2.25479375e-06 2.25479375e-06\n",
       " 2.25479375e-06 2.25479375e-06 2.25479375e-06 2.25479375e-06\n",
       " 2.25479375e-06 2.25479375e-06 2.25479375e-06 1.12103577e-07\n",
       " 1.12103577e-07 1.12103577e-07 1.12103577e-07 1.12103577e-07\n",
       " 1.12103577e-07 1.12103577e-07 1.12103577e-07 1.12103577e-07\n",
       " 1.12103577e-07 1.12103577e-07 1.12103577e-07 1.12103577e-07\n",
       " 1.12103577e-07 1.12103577e-07 1.12103577e-07 1.12103577e-07\n",
       " 1.12103577e-07 1.12103577e-07 1.12103577e-07 1.12103577e-07\n",
       " 1.12103577e-07 1.12103577e-07 1.12103577e-07 1.12103577e-07\n",
       " 1.12103577e-07 1.12103577e-07 1.12103577e-07 1.12103577e-07\n",
       " 1.12103577e-07 1.12103577e-07 1.12103577e-07]"
      ]
     },
     "execution_count": 37,
     "metadata": {},
     "output_type": "execute_result"
    }
   ],
   "source": [
    "ode_stat_pece(func, t_grid, u, lam)"
   ]
  }
 ],
 "metadata": {
  "kernelspec": {
   "display_name": "signature",
   "language": "python",
   "name": "signature"
  },
  "language_info": {
   "codemirror_mode": {
    "name": "ipython",
    "version": 3
   },
   "file_extension": ".py",
   "mimetype": "text/x-python",
   "name": "python",
   "nbconvert_exporter": "python",
   "pygments_lexer": "ipython3",
   "version": "3.9.20"
  }
 },
 "nbformat": 4,
 "nbformat_minor": 5
}
