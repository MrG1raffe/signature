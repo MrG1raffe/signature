{
 "cells": [
  {
   "cell_type": "markdown",
   "id": "0ec05c20-c4ca-43c7-b120-012fdf05e59b",
   "metadata": {},
   "source": [
    "## \"For\" loops"
   ]
  },
  {
   "cell_type": "code",
   "execution_count": 117,
   "id": "b939b730-0f54-402a-a546-1fca6f7827d5",
   "metadata": {},
   "outputs": [],
   "source": [
    "import numpy as np\n",
    "import numba\n",
    "\n",
    "@numba.jit(nopython=True)\n",
    "def numba_loops(arr):\n",
    "    n = arr.shape[0]\n",
    "    result = 0.0\n",
    "    for i in range(n):\n",
    "        result += arr[i] ** 2\n",
    "    return result"
   ]
  },
  {
   "cell_type": "code",
   "execution_count": 118,
   "id": "3c02ca51-78c4-42a9-8cb3-25daf15adb64",
   "metadata": {},
   "outputs": [
    {
     "name": "stdout",
     "output_type": "stream",
     "text": [
      "11.2 ms ± 995 µs per loop (mean ± std. dev. of 7 runs, 100 loops each)\n"
     ]
    }
   ],
   "source": [
    "%%timeit\n",
    "arr = np.random.rand(1000000)\n",
    "numba_loops(arr)  # Very fast"
   ]
  },
  {
   "cell_type": "code",
   "execution_count": 119,
   "id": "488fbca4-121c-47ae-8998-5f160dc389d4",
   "metadata": {},
   "outputs": [],
   "source": [
    "import jax.numpy as jnp\n",
    "jax.config.update(\"jax_enable_x64\", True)\n",
    "from jax import jit\n",
    "\n",
    "@jit\n",
    "def jax_loops(arr):\n",
    "    n = arr.shape[0]\n",
    "    result = 0.0\n",
    "    for i in range(n):  # JAX does not optimize this well\n",
    "        result += arr[i] ** 2\n",
    "    return result"
   ]
  },
  {
   "cell_type": "code",
   "execution_count": 4,
   "id": "40a7f42e-5f61-4faf-a11c-86d816a73153",
   "metadata": {},
   "outputs": [
    {
     "name": "stdout",
     "output_type": "stream",
     "text": [
      "37.300316\n",
      "CPU times: total: 93.8 ms\n",
      "Wall time: 184 ms\n"
     ]
    }
   ],
   "source": [
    "%%time\n",
    "arr = jnp.array(np.random.rand(100))\n",
    "print(jax_loops(arr))  # Not as fast as Numba"
   ]
  },
  {
   "cell_type": "code",
   "execution_count": 5,
   "id": "36645b51-dd10-4422-8a28-9d097744b4de",
   "metadata": {},
   "outputs": [],
   "source": [
    "def python_loops(arr):\n",
    "    n = arr.shape[0]\n",
    "    result = 0.0\n",
    "    for i in range(n):  # JAX does not optimize this well\n",
    "        result += arr[i] ** 2\n",
    "    return result"
   ]
  },
  {
   "cell_type": "code",
   "execution_count": 6,
   "id": "3a47b5fb-10ab-499e-be6e-b15024b75f51",
   "metadata": {},
   "outputs": [
    {
     "name": "stdout",
     "output_type": "stream",
     "text": [
      "3342.7043\n",
      "CPU times: total: 1.12 s\n",
      "Wall time: 1.44 s\n"
     ]
    }
   ],
   "source": [
    "%%time\n",
    "arr = jnp.array(np.random.rand(10**4))\n",
    "print(python_loops(arr))  # Not as fast as Numba"
   ]
  },
  {
   "cell_type": "markdown",
   "id": "21333ccc-2c1c-4651-9450-c2f454d342b5",
   "metadata": {},
   "source": [
    "Very bad results when using Python for and JAX"
   ]
  },
  {
   "cell_type": "markdown",
   "id": "6394c961-1e1c-4983-8bdf-1d558aea9add",
   "metadata": {},
   "source": [
    "## ODE solver"
   ]
  },
  {
   "cell_type": "markdown",
   "id": "4f971647-4352-4ab5-b4f2-d632a3c32bb0",
   "metadata": {},
   "source": [
    "#### JAX approach"
   ]
  },
  {
   "cell_type": "code",
   "execution_count": 7,
   "id": "aa9b9b09-cbf2-4b79-972c-ffbc79a6e738",
   "metadata": {},
   "outputs": [],
   "source": [
    "import jax.numpy as jnp\n",
    "import jax.lax as lax\n",
    "from jax import jit\n",
    "\n",
    "def f(x, t):  \n",
    "    return -x  # Example: Simple exponential decay dx/dt = -x\n",
    "\n",
    "def step(carry, t):\n",
    "    x, h = carry\n",
    "    x_new = x + h * f(x, t)  # Euler step\n",
    "    return (x_new, h), x_new  # (carry, output)"
   ]
  },
  {
   "cell_type": "code",
   "execution_count": 8,
   "id": "268f1f52-8bb5-4e67-8452-0ce0061d8460",
   "metadata": {},
   "outputs": [],
   "source": [
    "@jit\n",
    "def solve_euler(x0, h, t_array):\n",
    "    carry = (x0, h)\n",
    "    carry, x_values = lax.scan(step, carry, t_array)\n",
    "    return x_values  # Solution for all timesteps"
   ]
  },
  {
   "cell_type": "code",
   "execution_count": 9,
   "id": "34c000fd-a849-4336-a087-071673b796ac",
   "metadata": {},
   "outputs": [],
   "source": [
    "n_steps = 10**5"
   ]
  },
  {
   "cell_type": "code",
   "execution_count": 10,
   "id": "670e272f-9dd1-4b32-a506-545acc0aeb4b",
   "metadata": {},
   "outputs": [],
   "source": [
    "t_array = jnp.linspace(0, 10, n_steps)  # Time steps\n",
    "h = t_array[1] - t_array[0]  # Step size\n",
    "x0 = jnp.array(1.0)  # Initial condition"
   ]
  },
  {
   "cell_type": "code",
   "execution_count": 11,
   "id": "404c6b12-26af-45c3-a419-512c40623b85",
   "metadata": {},
   "outputs": [
    {
     "name": "stdout",
     "output_type": "stream",
     "text": [
      "157 µs ± 15.2 µs per loop (mean ± std. dev. of 7 runs, 10,000 loops each)\n"
     ]
    }
   ],
   "source": [
    "%%timeit\n",
    "\n",
    "solution = solve_euler(x0, h, t_array)"
   ]
  },
  {
   "cell_type": "markdown",
   "id": "13c7a541-1112-425f-9ee2-5b1490049c0f",
   "metadata": {},
   "source": [
    "#### Naïve approach"
   ]
  },
  {
   "cell_type": "code",
   "execution_count": 12,
   "id": "1aa65820-d8ef-4ffb-a146-89880a8fd5f0",
   "metadata": {},
   "outputs": [],
   "source": [
    "def euler_naive(x0, h, t_array):\n",
    "    x = np.zeros(len(t_array))\n",
    "    x[0] = x0\n",
    "    for i, t in enumerate(t_array[:-1]):\n",
    "        x[i + 1] = x[i] + h * f(x[i], t)  # Euler update\n",
    "\n",
    "    return np.array(x)"
   ]
  },
  {
   "cell_type": "code",
   "execution_count": 13,
   "id": "c185871b-f2aa-4aef-9f3b-f2e940208749",
   "metadata": {},
   "outputs": [
    {
     "name": "stdout",
     "output_type": "stream",
     "text": [
      "3.1 s ± 111 ms per loop (mean ± std. dev. of 7 runs, 1 loop each)\n"
     ]
    }
   ],
   "source": [
    "%%timeit\n",
    "\n",
    "solution = euler_naive(x0, h, t_array)"
   ]
  },
  {
   "cell_type": "markdown",
   "id": "31d5ccdf-1107-4b6a-8c8c-577cd28cb09e",
   "metadata": {},
   "source": [
    "#### Numba"
   ]
  },
  {
   "cell_type": "code",
   "execution_count": 14,
   "id": "1ec943a5-e764-4c53-87db-fc3899f79214",
   "metadata": {},
   "outputs": [],
   "source": [
    "import numpy as np\n",
    "import numba\n",
    "\n",
    "@numba.njit\n",
    "def solve_euler_numba(x0, h, t_array):\n",
    "    n = t_array.shape[0]\n",
    "    x_values = np.empty(n, dtype=np.float64)  \n",
    "    x_values[0] = x0\n",
    "    \n",
    "    for i in range(n - 1):\n",
    "        x_values[i + 1] = x_values[i] + h * (-x_values[i])  # dx/dt = -x\n",
    "\n",
    "    return x_values"
   ]
  },
  {
   "cell_type": "code",
   "execution_count": 15,
   "id": "90744d57-3321-4f10-8ddc-49ed131fc035",
   "metadata": {},
   "outputs": [],
   "source": [
    "t_array_np = np.linspace(0, 10, n_steps)  # Time steps\n",
    "h_np = t_array_np[1] - t_array_np[0]  # Step size\n",
    "x0_np = np.array(1.0)  # Initial condition"
   ]
  },
  {
   "cell_type": "code",
   "execution_count": 16,
   "id": "e6a2fb35-9f6d-462b-805f-d3598b38c473",
   "metadata": {},
   "outputs": [
    {
     "name": "stdout",
     "output_type": "stream",
     "text": [
      "196 µs ± 4.6 µs per loop (mean ± std. dev. of 7 runs, 1 loop each)\n"
     ]
    }
   ],
   "source": [
    "%%timeit\n",
    "solution = solve_euler_numba(x0_np, h_np, t_array_np)"
   ]
  },
  {
   "cell_type": "markdown",
   "id": "4e9a9845-f599-421b-9d71-a57352a8d669",
   "metadata": {},
   "source": [
    "#### Jax gives the best results for many timesteps when used wisely"
   ]
  },
  {
   "cell_type": "markdown",
   "id": "7e7811c2-742c-45b3-9de1-65f646600431",
   "metadata": {},
   "source": [
    "## Creation of shuffle tables"
   ]
  },
  {
   "cell_type": "code",
   "execution_count": null,
   "id": "acd28216-8f93-4948-8083-82d5e404febe",
   "metadata": {},
   "outputs": [],
   "source": [
    "table_trunc = 10\n",
    "dim = 2"
   ]
  },
  {
   "cell_type": "code",
   "execution_count": 104,
   "id": "7f2b4a13-534b-4c78-b036-9a0603b06a3b",
   "metadata": {},
   "outputs": [
    {
     "name": "stdout",
     "output_type": "stream",
     "text": [
      "CPU times: total: 2.3 s\n",
      "Wall time: 2.93 s\n"
     ]
    }
   ],
   "source": [
    "%%time\n",
    "table_numba = ShuffleOperator(table_trunc, Alphabet(dim)).shuffle_table.T"
   ]
  },
  {
   "cell_type": "code",
   "execution_count": 105,
   "id": "3d492899-5c31-41e8-9773-f27281ceb180",
   "metadata": {},
   "outputs": [
    {
     "data": {
      "text/plain": [
       "array([[   0,    0,    0,    1],\n",
       "       [   0,    1,    1,    1],\n",
       "       [   0,    2,    2,    1],\n",
       "       ...,\n",
       "       [2044,    0, 2044,    1],\n",
       "       [2045,    0, 2045,    1],\n",
       "       [2046,    0, 2046,    1]], dtype=int64)"
      ]
     },
     "execution_count": 105,
     "metadata": {},
     "output_type": "execute_result"
    }
   ],
   "source": [
    "table_numba"
   ]
  },
  {
   "cell_type": "code",
   "execution_count": 111,
   "id": "02783e74-bd20-4ffc-9371-ee58d735ae47",
   "metadata": {},
   "outputs": [
    {
     "name": "stdout",
     "output_type": "stream",
     "text": [
      "CPU times: total: 2.08 s\n",
      "Wall time: 2.67 s\n"
     ]
    }
   ],
   "source": [
    "%%time\n",
    "table_jax = get_shuffle_table(table_trunc=table_trunc, dim=dim).T"
   ]
  },
  {
   "cell_type": "code",
   "execution_count": 113,
   "id": "5da72cc4-16bf-4ea2-aaeb-bd1dfa348c3b",
   "metadata": {},
   "outputs": [
    {
     "data": {
      "text/plain": [
       "array([[   0,    0,    0,    1],\n",
       "       [   0,    1,    1,    1],\n",
       "       [   0,    2,    2,    1],\n",
       "       ...,\n",
       "       [2044,    0, 2044,    1],\n",
       "       [2045,    0, 2045,    1],\n",
       "       [2046,    0, 2046,    1]])"
      ]
     },
     "execution_count": 113,
     "metadata": {},
     "output_type": "execute_result"
    }
   ],
   "source": [
    "table_jax"
   ]
  },
  {
   "cell_type": "code",
   "execution_count": 114,
   "id": "fa096a2f-7ba3-43f0-891f-e52c0e4010e8",
   "metadata": {},
   "outputs": [
    {
     "data": {
      "text/plain": [
       "True"
      ]
     },
     "execution_count": 114,
     "metadata": {},
     "output_type": "execute_result"
    }
   ],
   "source": [
    "np.allclose(table_jax, table_numba)"
   ]
  },
  {
   "cell_type": "markdown",
   "id": "f499a2e3-47c6-49e0-8c5d-0a85457f7165",
   "metadata": {},
   "source": [
    "## Shuffle product (when the shuffle table is compiled)"
   ]
  },
  {
   "cell_type": "code",
   "execution_count": 120,
   "id": "4ec73aed-055b-4e7a-9468-6a33b3c5ea34",
   "metadata": {},
   "outputs": [
    {
     "name": "stdout",
     "output_type": "stream",
     "text": [
      "The autoreload extension is already loaded. To reload it, use:\n",
      "  %reload_ext autoreload\n"
     ]
    }
   ],
   "source": [
    "%load_ext autoreload\n",
    "%autoreload 2\n",
    "import sys\n",
    "if \"../..\" not in sys.path:\n",
    "    sys.path.append(\"../..\")\n",
    "\n",
    "import numpy as np\n",
    "import matplotlib\n",
    "import matplotlib.pyplot as plt\n",
    "import json\n",
    "from signature.signature.tensor_algebra import TensorAlgebra\n",
    "from signature.signature.tensor_sequence import TensorSequence\n",
    "from signature.signature.stationary_signature import stationary_signature_from_path, G\n",
    "from signature.signature.expected_signature import expected_signature, expected_stationary_signature\n",
    "from scipy.optimize import minimize\n",
    "\n",
    "green = \"#5b6c64\"\n",
    "copper = \"#B56246\"\n",
    "plt.rcParams[\"figure.figsize\"]        = ((1 + np.sqrt(5)) / 2 * 5, 5)\n",
    "plt.rcParams[\"figure.autolayout\"]     = True\n",
    "plt.rcParams[\"patch.force_edgecolor\"] = False\n",
    "plt.rcParams[\"axes.grid\"]             = True\n",
    "plt.rcParams['axes.prop_cycle']       = matplotlib.cycler(color=[green, copper, \"#322B4D\", \"#28BC9C\", \"#71074E\"])"
   ]
  },
  {
   "cell_type": "markdown",
   "id": "cea1dfcc-d800-49ae-8e49-3dca4f35b38f",
   "metadata": {},
   "source": [
    "#### Numba"
   ]
  },
  {
   "cell_type": "code",
   "execution_count": 121,
   "id": "60ef1010-fae6-4849-9025-68ba46322b0e",
   "metadata": {},
   "outputs": [
    {
     "name": "stdout",
     "output_type": "stream",
     "text": [
      "Compiling...\n",
      "Compilation finished.\n",
      "CPU times: total: 5min 19s\n",
      "Wall time: 6min 40s\n"
     ]
    }
   ],
   "source": [
    "%%time\n",
    "\n",
    "table_trunc = 10\n",
    "ts_trunc = 5\n",
    "\n",
    "ta = TensorAlgebra(dim=2, trunc=table_trunc)"
   ]
  },
  {
   "cell_type": "code",
   "execution_count": 126,
   "id": "d537e096-9b87-4a31-b03d-bc4cef8fbe4b",
   "metadata": {},
   "outputs": [],
   "source": [
    "rng = np.random.default_rng(seed=42)\n",
    "array = rng.random(size=ta.alphabet.number_of_elements(ts_trunc))"
   ]
  },
  {
   "cell_type": "code",
   "execution_count": 127,
   "id": "d7a4e988-c515-4917-b26e-618656795a7f",
   "metadata": {},
   "outputs": [],
   "source": [
    "ts = ta.from_array(trunc=table_trunc, array=array)"
   ]
  },
  {
   "cell_type": "code",
   "execution_count": 261,
   "id": "230a5c44-5019-447b-ba41-49fc2b816282",
   "metadata": {},
   "outputs": [],
   "source": [
    "ts_2D = ta.from_array(trunc=table_trunc, array=ts_arr_2d)"
   ]
  },
  {
   "cell_type": "code",
   "execution_count": 265,
   "id": "8bb81b0b-ec1a-4de1-a19d-4b4d752c3b91",
   "metadata": {},
   "outputs": [
    {
     "name": "stdout",
     "output_type": "stream",
     "text": [
      "14.2 ms ± 3.22 ms per loop (mean ± std. dev. of 7 runs, 1 loop each)\n"
     ]
    }
   ],
   "source": [
    "%%timeit\n",
    "res = ta.shuop.shuffle_prod(ts, ts)"
   ]
  },
  {
   "cell_type": "code",
   "execution_count": 264,
   "id": "e9ef6e40-19db-48f7-915a-ed960d4f555b",
   "metadata": {},
   "outputs": [
    {
     "name": "stdout",
     "output_type": "stream",
     "text": [
      "[0.77395605 0.77395605 0.77395605 0.77395605 0.77395605 0.77395605\n",
      " 0.77395605 0.77395605 0.77395605 0.77395605]*∅ + [0.43887844 0.43887844 0.43887844 0.43887844 0.43887844 0.43887844\n",
      " 0.43887844 0.43887844 0.43887844 0.43887844]*1 + [0.85859792 0.85859792 0.85859792 0.85859792 0.85859792 0.85859792\n",
      " 0.85859792 0.85859792 0.85859792 0.85859792]*2 + [0.69736803 0.69736803 0.69736803 0.69736803 0.69736803 0.69736803\n",
      " 0.69736803 0.69736803 0.69736803 0.69736803]*11 + [0.09417735 0.09417735 0.09417735 0.09417735 0.09417735 0.09417735\n",
      " 0.09417735 0.09417735 0.09417735 0.09417735]*12 + [0.97562235 0.97562235 0.97562235 0.97562235 0.97562235 0.97562235\n",
      " 0.97562235 0.97562235 0.97562235 0.97562235]*21 + [0.7611397 0.7611397 0.7611397 0.7611397 0.7611397 0.7611397 0.7611397\n",
      " 0.7611397 0.7611397 0.7611397]*22 + [0.78606431 0.78606431 0.78606431 0.78606431 0.78606431 0.78606431\n",
      " 0.78606431 0.78606431 0.78606431 0.78606431]*111 + [0.12811363 0.12811363 0.12811363 0.12811363 0.12811363 0.12811363\n",
      " 0.12811363 0.12811363 0.12811363 0.12811363]*112 + [0.45038594 0.45038594 0.45038594 0.45038594 0.45038594 0.45038594\n",
      " 0.45038594 0.45038594 0.45038594 0.45038594]*121 + [0.37079802 0.37079802 0.37079802 0.37079802 0.37079802 0.37079802\n",
      " 0.37079802 0.37079802 0.37079802 0.37079802]*122 + [0.92676499 0.92676499 0.92676499 0.92676499 0.92676499 0.92676499\n",
      " 0.92676499 0.92676499 0.92676499 0.92676499]*211 + [0.64386512 0.64386512 0.64386512 0.64386512 0.64386512 0.64386512\n",
      " 0.64386512 0.64386512 0.64386512 0.64386512]*212 + [0.82276161 0.82276161 0.82276161 0.82276161 0.82276161 0.82276161\n",
      " 0.82276161 0.82276161 0.82276161 0.82276161]*221 + [0.4434142 0.4434142 0.4434142 0.4434142 0.4434142 0.4434142 0.4434142\n",
      " 0.4434142 0.4434142 0.4434142]*222 + [0.22723872 0.22723872 0.22723872 0.22723872 0.22723872 0.22723872\n",
      " 0.22723872 0.22723872 0.22723872 0.22723872]*1111 + [0.55458479 0.55458479 0.55458479 0.55458479 0.55458479 0.55458479\n",
      " 0.55458479 0.55458479 0.55458479 0.55458479]*1112 + [0.06381726 0.06381726 0.06381726 0.06381726 0.06381726 0.06381726\n",
      " 0.06381726 0.06381726 0.06381726 0.06381726]*1121 + [0.82763117 0.82763117 0.82763117 0.82763117 0.82763117 0.82763117\n",
      " 0.82763117 0.82763117 0.82763117 0.82763117]*1122 + [0.6316644 0.6316644 0.6316644 0.6316644 0.6316644 0.6316644 0.6316644\n",
      " 0.6316644 0.6316644 0.6316644]*1211 + [0.75808774 0.75808774 0.75808774 0.75808774 0.75808774 0.75808774\n",
      " 0.75808774 0.75808774 0.75808774 0.75808774]*1212 + [0.35452597 0.35452597 0.35452597 0.35452597 0.35452597 0.35452597\n",
      " 0.35452597 0.35452597 0.35452597 0.35452597]*1221 + [0.97069802 0.97069802 0.97069802 0.97069802 0.97069802 0.97069802\n",
      " 0.97069802 0.97069802 0.97069802 0.97069802]*1222 + [0.89312112 0.89312112 0.89312112 0.89312112 0.89312112 0.89312112\n",
      " 0.89312112 0.89312112 0.89312112 0.89312112]*2111 + [0.7783835 0.7783835 0.7783835 0.7783835 0.7783835 0.7783835 0.7783835\n",
      " 0.7783835 0.7783835 0.7783835]*2112 + [0.19463871 0.19463871 0.19463871 0.19463871 0.19463871 0.19463871\n",
      " 0.19463871 0.19463871 0.19463871 0.19463871]*2121 + [0.466721 0.466721 0.466721 0.466721 0.466721 0.466721 0.466721 0.466721\n",
      " 0.466721 0.466721]*2122 + [0.04380377 0.04380377 0.04380377 0.04380377 0.04380377 0.04380377\n",
      " 0.04380377 0.04380377 0.04380377 0.04380377]*2211 + [0.15428949 0.15428949 0.15428949 0.15428949 0.15428949 0.15428949\n",
      " 0.15428949 0.15428949 0.15428949 0.15428949]*2212 + [0.68304895 0.68304895 0.68304895 0.68304895 0.68304895 0.68304895\n",
      " 0.68304895 0.68304895 0.68304895 0.68304895]*2221 + [0.74476216 0.74476216 0.74476216 0.74476216 0.74476216 0.74476216\n",
      " 0.74476216 0.74476216 0.74476216 0.74476216]*2222 + [0.96750973 0.96750973 0.96750973 0.96750973 0.96750973 0.96750973\n",
      " 0.96750973 0.96750973 0.96750973 0.96750973]*11111 + [0.32582536 0.32582536 0.32582536 0.32582536 0.32582536 0.32582536\n",
      " 0.32582536 0.32582536 0.32582536 0.32582536]*11112 + [0.37045971 0.37045971 0.37045971 0.37045971 0.37045971 0.37045971\n",
      " 0.37045971 0.37045971 0.37045971 0.37045971]*11121 + [0.46955581 0.46955581 0.46955581 0.46955581 0.46955581 0.46955581\n",
      " 0.46955581 0.46955581 0.46955581 0.46955581]*11122 + [0.18947136 0.18947136 0.18947136 0.18947136 0.18947136 0.18947136\n",
      " 0.18947136 0.18947136 0.18947136 0.18947136]*11211 + [0.12992151 0.12992151 0.12992151 0.12992151 0.12992151 0.12992151\n",
      " 0.12992151 0.12992151 0.12992151 0.12992151]*11212 + [0.47570493 0.47570493 0.47570493 0.47570493 0.47570493 0.47570493\n",
      " 0.47570493 0.47570493 0.47570493 0.47570493]*11221 + [0.22690935 0.22690935 0.22690935 0.22690935 0.22690935 0.22690935\n",
      " 0.22690935 0.22690935 0.22690935 0.22690935]*11222 + [0.66981399 0.66981399 0.66981399 0.66981399 0.66981399 0.66981399\n",
      " 0.66981399 0.66981399 0.66981399 0.66981399]*12111 + [0.43715192 0.43715192 0.43715192 0.43715192 0.43715192 0.43715192\n",
      " 0.43715192 0.43715192 0.43715192 0.43715192]*12112 + [0.8326782 0.8326782 0.8326782 0.8326782 0.8326782 0.8326782 0.8326782\n",
      " 0.8326782 0.8326782 0.8326782]*12121 + [0.7002651 0.7002651 0.7002651 0.7002651 0.7002651 0.7002651 0.7002651\n",
      " 0.7002651 0.7002651 0.7002651]*12122 + [0.31236664 0.31236664 0.31236664 0.31236664 0.31236664 0.31236664\n",
      " 0.31236664 0.31236664 0.31236664 0.31236664]*12211 + [0.8322598 0.8322598 0.8322598 0.8322598 0.8322598 0.8322598 0.8322598\n",
      " 0.8322598 0.8322598 0.8322598]*12212 + [0.80476436 0.80476436 0.80476436 0.80476436 0.80476436 0.80476436\n",
      " 0.80476436 0.80476436 0.80476436 0.80476436]*12221 + [0.38747838 0.38747838 0.38747838 0.38747838 0.38747838 0.38747838\n",
      " 0.38747838 0.38747838 0.38747838 0.38747838]*12222 + [0.2883281 0.2883281 0.2883281 0.2883281 0.2883281 0.2883281 0.2883281\n",
      " 0.2883281 0.2883281 0.2883281]*21111 + [0.6824955 0.6824955 0.6824955 0.6824955 0.6824955 0.6824955 0.6824955\n",
      " 0.6824955 0.6824955 0.6824955]*21112 + [0.13975248 0.13975248 0.13975248 0.13975248 0.13975248 0.13975248\n",
      " 0.13975248 0.13975248 0.13975248 0.13975248]*21121 + [0.1999082 0.1999082 0.1999082 0.1999082 0.1999082 0.1999082 0.1999082\n",
      " 0.1999082 0.1999082 0.1999082]*21122 + [0.00736227 0.00736227 0.00736227 0.00736227 0.00736227 0.00736227\n",
      " 0.00736227 0.00736227 0.00736227 0.00736227]*21211 + [0.78692438 0.78692438 0.78692438 0.78692438 0.78692438 0.78692438\n",
      " 0.78692438 0.78692438 0.78692438 0.78692438]*21212 + [0.66485086 0.66485086 0.66485086 0.66485086 0.66485086 0.66485086\n",
      " 0.66485086 0.66485086 0.66485086 0.66485086]*21221 + [0.70516538 0.70516538 0.70516538 0.70516538 0.70516538 0.70516538\n",
      " 0.70516538 0.70516538 0.70516538 0.70516538]*21222 + [0.78072903 0.78072903 0.78072903 0.78072903 0.78072903 0.78072903\n",
      " 0.78072903 0.78072903 0.78072903 0.78072903]*22111 + [0.45891578 0.45891578 0.45891578 0.45891578 0.45891578 0.45891578\n",
      " 0.45891578 0.45891578 0.45891578 0.45891578]*22112 + [0.5687412 0.5687412 0.5687412 0.5687412 0.5687412 0.5687412 0.5687412\n",
      " 0.5687412 0.5687412 0.5687412]*22121 + [0.139797 0.139797 0.139797 0.139797 0.139797 0.139797 0.139797 0.139797\n",
      " 0.139797 0.139797]*22122 + [0.11453007 0.11453007 0.11453007 0.11453007 0.11453007 0.11453007\n",
      " 0.11453007 0.11453007 0.11453007 0.11453007]*22211 + [0.66840296 0.66840296 0.66840296 0.66840296 0.66840296 0.66840296\n",
      " 0.66840296 0.66840296 0.66840296 0.66840296]*22212 + [0.47109621 0.47109621 0.47109621 0.47109621 0.47109621 0.47109621\n",
      " 0.47109621 0.47109621 0.47109621 0.47109621]*22221 + [0.56523611 0.56523611 0.56523611 0.56523611 0.56523611 0.56523611\n",
      " 0.56523611 0.56523611 0.56523611 0.56523611]*22222\n"
     ]
    }
   ],
   "source": [
    "ta.print(ts_2D)"
   ]
  },
  {
   "cell_type": "code",
   "execution_count": 271,
   "id": "b8430884-9147-4e8b-93bb-7cec622007f5",
   "metadata": {},
   "outputs": [
    {
     "name": "stdout",
     "output_type": "stream",
     "text": [
      "76.9 ms ± 3.64 ms per loop (mean ± std. dev. of 7 runs, 10 loops each)\n"
     ]
    }
   ],
   "source": [
    "%%timeit\n",
    "ta.shuop.shuffle_prod_2d(ts_2D, ts_2D).shape"
   ]
  },
  {
   "cell_type": "code",
   "execution_count": 134,
   "id": "d181354d-13a3-4df6-b29a-850b964ae6a6",
   "metadata": {},
   "outputs": [
    {
     "data": {
      "text/plain": [
       "array([ 0.59900797,  0.67934525,  1.32903411, ..., 79.59349657,\n",
       "       67.10270751, 80.51194773])"
      ]
     },
     "execution_count": 134,
     "metadata": {},
     "output_type": "execute_result"
    }
   ],
   "source": [
    "res = ta.shuop.shuffle_prod(ts, ts)\n",
    "res.array.squeeze().real"
   ]
  },
  {
   "cell_type": "markdown",
   "id": "abaed30e-659e-4dc7-b5bf-d858bf8cd2a5",
   "metadata": {},
   "source": [
    "#### Pure numpy"
   ]
  },
  {
   "cell_type": "code",
   "execution_count": 137,
   "id": "10e62ea8-c30b-4004-ad41-0cfd124968a6",
   "metadata": {},
   "outputs": [],
   "source": [
    "def __get_extended_array_np(ts: TensorSequence):\n",
    "    n_elements = ta.alphabet.number_of_elements(table_trunc)\n",
    "\n",
    "    new_array = np.zeros((n_elements,) + ts.shape[1:], dtype=complex)\n",
    "    new_array[:min(n_elements, ts.shape[0])] = ts.array[:min(n_elements, ts.shape[0])]\n",
    "    return new_array\n",
    "\n",
    "def shuffle_prod_np(\n",
    "    ts1: TensorSequence,\n",
    "    ts2: TensorSequence,\n",
    "    shuffle_table\n",
    "):\n",
    "    index_left, index_right, index_result, count = shuffle_table\n",
    "\n",
    "    if ts1.trunc < table_trunc:\n",
    "        array_1 = __get_extended_array_np(ts1)\n",
    "    else:\n",
    "        array_1 = ts1.array\n",
    "\n",
    "    if ts2.trunc < table_trunc:\n",
    "        array_2 = __get_extended_array_np(ts2)\n",
    "    else:\n",
    "        array_2 = ts2.array\n",
    "\n",
    "    source = count * array_1[index_left, 0, 0] * array_2[index_right, 0, 0]\n",
    "    linear_result = np.zeros(index_result[-1] + 1, dtype=complex)\n",
    "    for i in range(len(index_result)):\n",
    "        linear_result[index_result[i]] = linear_result[index_result[i]] + source[i]\n",
    "    return TensorSequence(ta.alphabet, table_trunc, linear_result)"
   ]
  },
  {
   "cell_type": "code",
   "execution_count": 139,
   "id": "2b030703-5fca-45e1-a22f-0e7c9cd719b1",
   "metadata": {},
   "outputs": [
    {
     "name": "stdout",
     "output_type": "stream",
     "text": [
      "145 ms ± 6.19 ms per loop (mean ± std. dev. of 7 runs, 10 loops each)\n"
     ]
    }
   ],
   "source": [
    "%%timeit\n",
    "res2 = shuffle_prod_np(ts, ts, ta.shuop.shuffle_table)"
   ]
  },
  {
   "cell_type": "code",
   "execution_count": 140,
   "id": "d79d83c8-c87a-465a-86c2-15440b3903d1",
   "metadata": {},
   "outputs": [
    {
     "name": "stdout",
     "output_type": "stream",
     "text": [
      "\n"
     ]
    }
   ],
   "source": [
    "res2 = shuffle_prod_np(ts, ts, ta.shuop.shuffle_table)\n",
    "ta.print(res2 - res)"
   ]
  },
  {
   "cell_type": "code",
   "execution_count": 251,
   "id": "c84db774-19c2-4209-99b8-6b4b44488efe",
   "metadata": {},
   "outputs": [],
   "source": [
    "import jax\n",
    "import jax.numpy as jnp\n",
    "from jax import lax\n",
    "from functools import partial\n",
    "\n",
    "from signature.signature.jax_signature.words import number_of_words_up_to_trunc\n",
    "\n",
    "def change_trunc(ts: jax.Array, trunc: int, dim: int = 2):\n",
    "    n_elements = number_of_words_up_to_trunc(trunc, dim)\n",
    "    new_array = jnp.zeros(n_elements)\n",
    "    new_array = new_array.at[:min(n_elements, ts.shape[0])].set(ts[:min(n_elements, ts.shape[0])])\n",
    "    return new_array\n",
    "\n",
    "@jax.jit\n",
    "def shuffle_prod_jax(\n",
    "    ts1: jax.Array,\n",
    "    ts2: jax.Array,\n",
    "    shuffle_table: jax.Array,\n",
    "):\n",
    "    index_left, index_right, index_result, count = shuffle_table\n",
    "\n",
    "    source = count * ts1[index_left] * ts2[index_right]\n",
    "    linear_result = ts1 * 0\n",
    "    #jnp.zeros(number_of_words_up_to_trunc(trunc)) # index_result[-1] + 1\n",
    "    linear_result = linear_result.at[index_result].add(source)\n",
    "    \n",
    "    return linear_result\n",
    "\n",
    "shuffle_prod_jax_vect = jax.jit(jax.vmap(shuffle_prod_jax, in_axes=(1, 1, None), out_axes=1))"
   ]
  },
  {
   "cell_type": "code",
   "execution_count": 233,
   "id": "b6721262-8b10-440f-a770-c32150fa3542",
   "metadata": {},
   "outputs": [
    {
     "data": {
      "text/plain": [
       "Array([0.77395605, 0.43887844, 0.85859792, ..., 0.        , 0.        ,\n",
       "       0.        ], dtype=float64)"
      ]
     },
     "execution_count": 233,
     "metadata": {},
     "output_type": "execute_result"
    }
   ],
   "source": [
    "ts_arr = jnp.array(ts.array.squeeze()).real\n",
    "ts_arr"
   ]
  },
  {
   "cell_type": "code",
   "execution_count": 248,
   "id": "ea15c963-a745-4427-b414-0979cc87d96d",
   "metadata": {},
   "outputs": [],
   "source": [
    "ts_arr_2d = jnp.vstack([ts_arr] * 10).T"
   ]
  },
  {
   "cell_type": "code",
   "execution_count": 151,
   "id": "c898d638-827d-45a5-9830-d267b04c1153",
   "metadata": {},
   "outputs": [],
   "source": [
    "shuffle_table = get_shuffle_table(table_trunc=table_trunc)"
   ]
  },
  {
   "cell_type": "code",
   "execution_count": 215,
   "id": "7bf0902b-24f2-47d1-b190-d1e767584d14",
   "metadata": {},
   "outputs": [
    {
     "name": "stdout",
     "output_type": "stream",
     "text": [
      "CPU times: total: 0 ns\n",
      "Wall time: 0 ns\n"
     ]
    },
    {
     "data": {
      "text/plain": [
       "Array([0.77395605, 0.43887844, 0.85859792, ..., 0.        , 0.        ,\n",
       "       0.        ], dtype=float64)"
      ]
     },
     "execution_count": 215,
     "metadata": {},
     "output_type": "execute_result"
    }
   ],
   "source": [
    "%%time\n",
    "\n",
    "change_trunc(ts=ts_arr, trunc=10)"
   ]
  },
  {
   "cell_type": "code",
   "execution_count": 229,
   "id": "bf307770-7116-4b73-85c9-606514bed6c4",
   "metadata": {},
   "outputs": [
    {
     "name": "stdout",
     "output_type": "stream",
     "text": [
      "915 µs ± 90.4 µs per loop (mean ± std. dev. of 7 runs, 1,000 loops each)\n"
     ]
    }
   ],
   "source": [
    "%%timeit\n",
    "ts_arr_2 = change_trunc(ts=ts_arr, trunc=10)"
   ]
  },
  {
   "cell_type": "code",
   "execution_count": 240,
   "id": "76b89343-50bc-4ff3-a113-4415f84a4274",
   "metadata": {},
   "outputs": [
    {
     "name": "stdout",
     "output_type": "stream",
     "text": [
      "5.17 ms ± 381 µs per loop (mean ± std. dev. of 7 runs, 100 loops each)\n"
     ]
    }
   ],
   "source": [
    "%%timeit\n",
    "ts_arr_2 = change_trunc(ts=ts_arr, trunc=10)\n",
    "ts_arr_2 = change_trunc(ts=ts_arr, trunc=10)\n",
    "shuffle_prod_jax(ts_arr, ts_arr, shuffle_table=shuffle_table)"
   ]
  },
  {
   "cell_type": "code",
   "execution_count": 206,
   "id": "05baa94c-8bf5-4b0e-825d-b99a3273d138",
   "metadata": {},
   "outputs": [
    {
     "data": {
      "text/plain": [
       "array([ 0.59900797,  0.67934525,  1.32903411, ..., 79.59349657,\n",
       "       67.10270751, 80.51194773])"
      ]
     },
     "execution_count": 206,
     "metadata": {},
     "output_type": "execute_result"
    }
   ],
   "source": [
    "res.array.squeeze().real"
   ]
  },
  {
   "cell_type": "code",
   "execution_count": 252,
   "id": "18f2525b-bb2a-4341-ba58-f529b9cf9e4b",
   "metadata": {},
   "outputs": [
    {
     "data": {
      "text/plain": [
       "Array([0.59900797, 0.67934525, 1.32903411, 1.46469298, 0.89941849,\n",
       "       2.26381787, 2.65255813, 3.0531172 , 1.56115575, 2.83369937,\n",
       "       1.56550026, 4.34478668, 3.50179781, 5.29232755, 4.60744399],      dtype=float64)"
      ]
     },
     "execution_count": 252,
     "metadata": {},
     "output_type": "execute_result"
    }
   ],
   "source": [
    "shuffle_prod_jax(change_trunc(ts_arr, 3), ts_arr, jnp.array(shuffle_table))"
   ]
  },
  {
   "cell_type": "code",
   "execution_count": 244,
   "id": "1beb8c4b-cadb-43b1-9ce3-5d3847eccc2b",
   "metadata": {},
   "outputs": [
    {
     "data": {
      "text/plain": [
       "Array([0.59900797, 0.67934525, 1.32903411, 1.46469298, 0.89941849,\n",
       "       2.26381787, 2.65255813, 3.0531172 , 1.56115575, 2.83369937,\n",
       "       1.56550026, 4.34478668, 3.50179781, 5.29232755, 4.60744399],      dtype=float64)"
      ]
     },
     "execution_count": 244,
     "metadata": {},
     "output_type": "execute_result"
    }
   ],
   "source": [
    "shuffle_prod_jax(ts_arr, ts_arr, jnp.array(shuffle_table))[:15]"
   ]
  },
  {
   "cell_type": "code",
   "execution_count": 255,
   "id": "b8b461f1-325d-49e3-adc7-8d94602443fb",
   "metadata": {},
   "outputs": [
    {
     "data": {
      "text/plain": [
       "Array([[ 0.59900797,  0.59900797,  0.59900797, ...,  0.59900797,\n",
       "         0.59900797,  0.59900797],\n",
       "       [ 0.67934525,  0.67934525,  0.67934525, ...,  0.67934525,\n",
       "         0.67934525,  0.67934525],\n",
       "       [ 1.32903411,  1.32903411,  1.32903411, ...,  1.32903411,\n",
       "         1.32903411,  1.32903411],\n",
       "       ...,\n",
       "       [79.59349657, 79.59349657, 79.59349657, ..., 79.59349657,\n",
       "        79.59349657, 79.59349657],\n",
       "       [67.10270751, 67.10270751, 67.10270751, ..., 67.10270751,\n",
       "        67.10270751, 67.10270751],\n",
       "       [80.51194773, 80.51194773, 80.51194773, ..., 80.51194773,\n",
       "        80.51194773, 80.51194773]], dtype=float64)"
      ]
     },
     "execution_count": 255,
     "metadata": {},
     "output_type": "execute_result"
    }
   ],
   "source": [
    "shuffle_prod_jax_vect(ts_arr_2d, ts_arr_2d, shuffle_table)"
   ]
  },
  {
   "cell_type": "code",
   "execution_count": 256,
   "id": "fd2785e6-33dd-4162-a481-3b762af18db7",
   "metadata": {},
   "outputs": [
    {
     "name": "stdout",
     "output_type": "stream",
     "text": [
      "22.9 ms ± 2.76 ms per loop (mean ± std. dev. of 7 runs, 10 loops each)\n"
     ]
    }
   ],
   "source": [
    "%%timeit\n",
    "shuffle_prod_jax_vect(ts_arr_2d, ts_arr_2d, shuffle_table)"
   ]
  },
  {
   "cell_type": "code",
   "execution_count": 321,
   "id": "88387d98-3531-4535-a2d2-0bded89efe55",
   "metadata": {},
   "outputs": [],
   "source": [
    "import jax_dataclasses as jdc\n",
    "\n",
    "@jdc.pytree_dataclass\n",
    "class TensorSequenceJAX:\n",
    "    array: jax.Array\n",
    "    trunc: int\n",
    "    dim: int\n",
    "    \n",
    "    #def __init__(self)\n",
    "    \n",
    "    def __repr__(self):\n",
    "        return str(self.array)\n",
    "    \n",
    "    @jax.jit\n",
    "    def foo(self):\n",
    "        return self.array * 2"
   ]
  },
  {
   "cell_type": "code",
   "execution_count": 322,
   "id": "37967159-fec0-4075-a4f2-c5db3b1255bd",
   "metadata": {},
   "outputs": [],
   "source": [
    "ts_jax = TensorSequenceJAX(array=ts_arr, trunc=table_trunc, dim=dim)"
   ]
  },
  {
   "cell_type": "code",
   "execution_count": 323,
   "id": "8c413564-b5c3-4e2d-9344-f6ec8f3dd08d",
   "metadata": {},
   "outputs": [
    {
     "data": {
      "text/plain": [
       "Array([1.5479121 , 0.87775688, 1.71719584, ..., 0.        , 0.        ,\n",
       "       0.        ], dtype=float64)"
      ]
     },
     "execution_count": 323,
     "metadata": {},
     "output_type": "execute_result"
    }
   ],
   "source": [
    "ts_jax.foo()"
   ]
  },
  {
   "cell_type": "code",
   "execution_count": 290,
   "id": "cc1439df-7da1-4693-9d4f-f122129233c5",
   "metadata": {},
   "outputs": [],
   "source": [
    "a = A(a=jnp.ones(5x), b=False)"
   ]
  },
  {
   "cell_type": "code",
   "execution_count": 305,
   "id": "d8c13b66-1688-4594-94f7-48a1e73921f1",
   "metadata": {},
   "outputs": [],
   "source": [
    "@jax.jit\n",
    "def foo(a: A):\n",
    "    return a.b * a.a"
   ]
  },
  {
   "cell_type": "code",
   "execution_count": 292,
   "id": "b5a5cbf7-1ad8-48a7-9acf-591fc4a20af3",
   "metadata": {},
   "outputs": [
    {
     "data": {
      "text/plain": [
       "Array([0., 0., 0., 0., 0.], dtype=float64)"
      ]
     },
     "execution_count": 292,
     "metadata": {},
     "output_type": "execute_result"
    }
   ],
   "source": [
    "foo(a)"
   ]
  },
  {
   "cell_type": "code",
   "execution_count": 281,
   "id": "34c371bc-f801-4c13-94c4-a9d57be57aec",
   "metadata": {},
   "outputs": [
    {
     "ename": "FrozenInstanceError",
     "evalue": "Dataclass registered as pytree is immutable!",
     "output_type": "error",
     "traceback": [
      "\u001b[1;31m---------------------------------------------------------------------------\u001b[0m",
      "\u001b[1;31mFrozenInstanceError\u001b[0m                       Traceback (most recent call last)",
      "Cell \u001b[1;32mIn[281], line 1\u001b[0m\n\u001b[1;32m----> 1\u001b[0m \u001b[43ma\u001b[49m\u001b[38;5;241;43m.\u001b[39;49m\u001b[43ma\u001b[49m \u001b[38;5;241m=\u001b[39m jnp\u001b[38;5;241m.\u001b[39mones(\u001b[38;5;241m5\u001b[39m)\n",
      "File \u001b[1;32m~\\Anaconda3\\envs\\signature\\lib\\site-packages\\jax_dataclasses\\_copy_and_mutate.py:130\u001b[0m, in \u001b[0;36m_new_setattr\u001b[1;34m(self, name, value)\u001b[0m\n\u001b[0;32m    127\u001b[0m     \u001b[38;5;28mobject\u001b[39m\u001b[38;5;241m.\u001b[39m\u001b[38;5;21m__setattr__\u001b[39m(\u001b[38;5;28mself\u001b[39m, name, value)\n\u001b[0;32m    129\u001b[0m \u001b[38;5;28;01melif\u001b[39;00m \u001b[38;5;28mself\u001b[39m\u001b[38;5;241m.\u001b[39m__mutability__ \u001b[38;5;241m==\u001b[39m _Mutability\u001b[38;5;241m.\u001b[39mFROZEN:\n\u001b[1;32m--> 130\u001b[0m     \u001b[38;5;28;01mraise\u001b[39;00m dataclasses\u001b[38;5;241m.\u001b[39mFrozenInstanceError(\n\u001b[0;32m    131\u001b[0m         \u001b[38;5;124m\"\u001b[39m\u001b[38;5;124mDataclass registered as pytree is immutable!\u001b[39m\u001b[38;5;124m\"\u001b[39m\n\u001b[0;32m    132\u001b[0m     )\n\u001b[0;32m    134\u001b[0m \u001b[38;5;28;01melse\u001b[39;00m:\n\u001b[0;32m    135\u001b[0m     \u001b[38;5;28;01massert\u001b[39;00m \u001b[38;5;28;01mFalse\u001b[39;00m\n",
      "\u001b[1;31mFrozenInstanceError\u001b[0m: Dataclass registered as pytree is immutable!"
     ]
    }
   ],
   "source": [
    "a.a = jnp.ones(5)"
   ]
  }
 ],
 "metadata": {
  "kernelspec": {
   "display_name": "signature",
   "language": "python",
   "name": "signature"
  },
  "language_info": {
   "codemirror_mode": {
    "name": "ipython",
    "version": 3
   },
   "file_extension": ".py",
   "mimetype": "text/x-python",
   "name": "python",
   "nbconvert_exporter": "python",
   "pygments_lexer": "ipython3",
   "version": "3.9.20"
  }
 },
 "nbformat": 4,
 "nbformat_minor": 5
}
