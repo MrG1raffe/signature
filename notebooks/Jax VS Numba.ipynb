{
 "cells": [
  {
   "cell_type": "markdown",
   "id": "0ec05c20-c4ca-43c7-b120-012fdf05e59b",
   "metadata": {},
   "source": [
    "## \"For\" loops"
   ]
  },
  {
   "cell_type": "code",
   "execution_count": 1,
   "id": "b939b730-0f54-402a-a546-1fca6f7827d5",
   "metadata": {},
   "outputs": [],
   "source": [
    "import numpy as np\n",
    "import numba\n",
    "\n",
    "@numba.jit(nopython=True)\n",
    "def numba_loops(arr):\n",
    "    n = arr.shape[0]\n",
    "    result = 0.0\n",
    "    for i in range(n):\n",
    "        result += arr[i] ** 2\n",
    "    return result"
   ]
  },
  {
   "cell_type": "code",
   "execution_count": 118,
   "id": "3c02ca51-78c4-42a9-8cb3-25daf15adb64",
   "metadata": {},
   "outputs": [
    {
     "name": "stdout",
     "output_type": "stream",
     "text": [
      "11.2 ms ± 995 µs per loop (mean ± std. dev. of 7 runs, 100 loops each)\n"
     ]
    }
   ],
   "source": [
    "%%timeit\n",
    "arr = np.random.rand(1000000)\n",
    "numba_loops(arr)  # Very fast"
   ]
  },
  {
   "cell_type": "code",
   "execution_count": 119,
   "id": "488fbca4-121c-47ae-8998-5f160dc389d4",
   "metadata": {},
   "outputs": [],
   "source": [
    "import jax.numpy as jnp\n",
    "jax.config.update(\"jax_enable_x64\", True)\n",
    "from jax import jit\n",
    "\n",
    "@jit\n",
    "def jax_loops(arr):\n",
    "    n = arr.shape[0]\n",
    "    result = 0.0\n",
    "    for i in range(n):  # JAX does not optimize this well\n",
    "        result += arr[i] ** 2\n",
    "    return result"
   ]
  },
  {
   "cell_type": "code",
   "execution_count": 4,
   "id": "40a7f42e-5f61-4faf-a11c-86d816a73153",
   "metadata": {},
   "outputs": [
    {
     "name": "stdout",
     "output_type": "stream",
     "text": [
      "37.300316\n",
      "CPU times: total: 93.8 ms\n",
      "Wall time: 184 ms\n"
     ]
    }
   ],
   "source": [
    "%%time\n",
    "arr = jnp.array(np.random.rand(100))\n",
    "print(jax_loops(arr))  # Not as fast as Numba"
   ]
  },
  {
   "cell_type": "code",
   "execution_count": 5,
   "id": "36645b51-dd10-4422-8a28-9d097744b4de",
   "metadata": {},
   "outputs": [],
   "source": [
    "def python_loops(arr):\n",
    "    n = arr.shape[0]\n",
    "    result = 0.0\n",
    "    for i in range(n):  # JAX does not optimize this well\n",
    "        result += arr[i] ** 2\n",
    "    return result"
   ]
  },
  {
   "cell_type": "code",
   "execution_count": 6,
   "id": "3a47b5fb-10ab-499e-be6e-b15024b75f51",
   "metadata": {},
   "outputs": [
    {
     "name": "stdout",
     "output_type": "stream",
     "text": [
      "3342.7043\n",
      "CPU times: total: 1.12 s\n",
      "Wall time: 1.44 s\n"
     ]
    }
   ],
   "source": [
    "%%time\n",
    "arr = jnp.array(np.random.rand(10**4))\n",
    "print(python_loops(arr))  # Not as fast as Numba"
   ]
  },
  {
   "cell_type": "markdown",
   "id": "21333ccc-2c1c-4651-9450-c2f454d342b5",
   "metadata": {},
   "source": [
    "Very bad results when using Python for and JAX"
   ]
  },
  {
   "cell_type": "markdown",
   "id": "6394c961-1e1c-4983-8bdf-1d558aea9add",
   "metadata": {},
   "source": [
    "## ODE solver"
   ]
  },
  {
   "cell_type": "markdown",
   "id": "4f971647-4352-4ab5-b4f2-d632a3c32bb0",
   "metadata": {},
   "source": [
    "#### JAX approach"
   ]
  },
  {
   "cell_type": "code",
   "execution_count": 7,
   "id": "aa9b9b09-cbf2-4b79-972c-ffbc79a6e738",
   "metadata": {},
   "outputs": [],
   "source": [
    "import jax.numpy as jnp\n",
    "import jax.lax as lax\n",
    "from jax import jit\n",
    "\n",
    "def f(x, t):  \n",
    "    return -x  # Example: Simple exponential decay dx/dt = -x\n",
    "\n",
    "def step(carry, t):\n",
    "    x, h = carry\n",
    "    x_new = x + h * f(x, t)  # Euler step\n",
    "    return (x_new, h), x_new  # (carry, output)"
   ]
  },
  {
   "cell_type": "code",
   "execution_count": 8,
   "id": "268f1f52-8bb5-4e67-8452-0ce0061d8460",
   "metadata": {},
   "outputs": [],
   "source": [
    "@jit\n",
    "def solve_euler(x0, h, t_array):\n",
    "    carry = (x0, h)\n",
    "    carry, x_values = lax.scan(step, carry, t_array)\n",
    "    return x_values  # Solution for all timesteps"
   ]
  },
  {
   "cell_type": "code",
   "execution_count": 9,
   "id": "34c000fd-a849-4336-a087-071673b796ac",
   "metadata": {},
   "outputs": [],
   "source": [
    "n_steps = 10**5"
   ]
  },
  {
   "cell_type": "code",
   "execution_count": 10,
   "id": "670e272f-9dd1-4b32-a506-545acc0aeb4b",
   "metadata": {},
   "outputs": [],
   "source": [
    "t_array = jnp.linspace(0, 10, n_steps)  # Time steps\n",
    "h = t_array[1] - t_array[0]  # Step size\n",
    "x0 = jnp.array(1.0)  # Initial condition"
   ]
  },
  {
   "cell_type": "code",
   "execution_count": 11,
   "id": "404c6b12-26af-45c3-a419-512c40623b85",
   "metadata": {},
   "outputs": [
    {
     "name": "stdout",
     "output_type": "stream",
     "text": [
      "157 µs ± 15.2 µs per loop (mean ± std. dev. of 7 runs, 10,000 loops each)\n"
     ]
    }
   ],
   "source": [
    "%%timeit\n",
    "\n",
    "solution = solve_euler(x0, h, t_array)"
   ]
  },
  {
   "cell_type": "markdown",
   "id": "13c7a541-1112-425f-9ee2-5b1490049c0f",
   "metadata": {},
   "source": [
    "#### Naïve approach"
   ]
  },
  {
   "cell_type": "code",
   "execution_count": 12,
   "id": "1aa65820-d8ef-4ffb-a146-89880a8fd5f0",
   "metadata": {},
   "outputs": [],
   "source": [
    "def euler_naive(x0, h, t_array):\n",
    "    x = np.zeros(len(t_array))\n",
    "    x[0] = x0\n",
    "    for i, t in enumerate(t_array[:-1]):\n",
    "        x[i + 1] = x[i] + h * f(x[i], t)  # Euler update\n",
    "\n",
    "    return np.array(x)"
   ]
  },
  {
   "cell_type": "code",
   "execution_count": 13,
   "id": "c185871b-f2aa-4aef-9f3b-f2e940208749",
   "metadata": {},
   "outputs": [
    {
     "name": "stdout",
     "output_type": "stream",
     "text": [
      "3.1 s ± 111 ms per loop (mean ± std. dev. of 7 runs, 1 loop each)\n"
     ]
    }
   ],
   "source": [
    "%%timeit\n",
    "\n",
    "solution = euler_naive(x0, h, t_array)"
   ]
  },
  {
   "cell_type": "markdown",
   "id": "31d5ccdf-1107-4b6a-8c8c-577cd28cb09e",
   "metadata": {},
   "source": [
    "#### Numba"
   ]
  },
  {
   "cell_type": "code",
   "execution_count": 14,
   "id": "1ec943a5-e764-4c53-87db-fc3899f79214",
   "metadata": {},
   "outputs": [],
   "source": [
    "import numpy as np\n",
    "import numba\n",
    "\n",
    "@numba.njit\n",
    "def solve_euler_numba(x0, h, t_array):\n",
    "    n = t_array.shape[0]\n",
    "    x_values = np.empty(n, dtype=np.float64)  \n",
    "    x_values[0] = x0\n",
    "    \n",
    "    for i in range(n - 1):\n",
    "        x_values[i + 1] = x_values[i] + h * (-x_values[i])  # dx/dt = -x\n",
    "\n",
    "    return x_values"
   ]
  },
  {
   "cell_type": "code",
   "execution_count": 15,
   "id": "90744d57-3321-4f10-8ddc-49ed131fc035",
   "metadata": {},
   "outputs": [],
   "source": [
    "t_array_np = np.linspace(0, 10, n_steps)  # Time steps\n",
    "h_np = t_array_np[1] - t_array_np[0]  # Step size\n",
    "x0_np = np.array(1.0)  # Initial condition"
   ]
  },
  {
   "cell_type": "code",
   "execution_count": 16,
   "id": "e6a2fb35-9f6d-462b-805f-d3598b38c473",
   "metadata": {},
   "outputs": [
    {
     "name": "stdout",
     "output_type": "stream",
     "text": [
      "196 µs ± 4.6 µs per loop (mean ± std. dev. of 7 runs, 1 loop each)\n"
     ]
    }
   ],
   "source": [
    "%%timeit\n",
    "solution = solve_euler_numba(x0_np, h_np, t_array_np)"
   ]
  },
  {
   "cell_type": "markdown",
   "id": "4e9a9845-f599-421b-9d71-a57352a8d669",
   "metadata": {},
   "source": [
    "#### Jax gives the best results for many timesteps when used wisely"
   ]
  },
  {
   "cell_type": "markdown",
   "id": "7e7811c2-742c-45b3-9de1-65f646600431",
   "metadata": {},
   "source": [
    "## Creation of shuffle tables"
   ]
  },
  {
   "cell_type": "code",
   "execution_count": 21,
   "id": "0b569637-32fd-4eeb-a8c4-3368294b7915",
   "metadata": {},
   "outputs": [],
   "source": [
    "from signature.signature.shuffle_operator import ShuffleOperator\n",
    "from signature.signature.alphabet import Alphabet\n",
    "from signature.signature.jax_signature.shuffle_table import get_shuffle_table"
   ]
  },
  {
   "cell_type": "code",
   "execution_count": 22,
   "id": "acd28216-8f93-4948-8083-82d5e404febe",
   "metadata": {},
   "outputs": [],
   "source": [
    "table_trunc = 10\n",
    "dim = 2"
   ]
  },
  {
   "cell_type": "code",
   "execution_count": 23,
   "id": "7f2b4a13-534b-4c78-b036-9a0603b06a3b",
   "metadata": {},
   "outputs": [
    {
     "name": "stdout",
     "output_type": "stream",
     "text": [
      "CPU times: total: 1.88 s\n",
      "Wall time: 2.12 s\n"
     ]
    }
   ],
   "source": [
    "%%time\n",
    "table_numba = ShuffleOperator(table_trunc, Alphabet(dim)).shuffle_table.T"
   ]
  },
  {
   "cell_type": "code",
   "execution_count": 24,
   "id": "3d492899-5c31-41e8-9773-f27281ceb180",
   "metadata": {},
   "outputs": [
    {
     "data": {
      "text/plain": [
       "array([[   0,    0,    0,    1],\n",
       "       [   0,    1,    1,    1],\n",
       "       [   0,    2,    2,    1],\n",
       "       ...,\n",
       "       [2044,    0, 2044,    1],\n",
       "       [2045,    0, 2045,    1],\n",
       "       [2046,    0, 2046,    1]], dtype=int64)"
      ]
     },
     "execution_count": 24,
     "metadata": {},
     "output_type": "execute_result"
    }
   ],
   "source": [
    "table_numba"
   ]
  },
  {
   "cell_type": "code",
   "execution_count": 28,
   "id": "02783e74-bd20-4ffc-9371-ee58d735ae47",
   "metadata": {},
   "outputs": [
    {
     "name": "stdout",
     "output_type": "stream",
     "text": [
      "CPU times: total: 1.81 s\n",
      "Wall time: 2.18 s\n"
     ]
    }
   ],
   "source": [
    "%%time\n",
    "table_jax = get_shuffle_table(table_trunc=table_trunc, dim=dim).T"
   ]
  },
  {
   "cell_type": "code",
   "execution_count": 29,
   "id": "5da72cc4-16bf-4ea2-aaeb-bd1dfa348c3b",
   "metadata": {},
   "outputs": [
    {
     "data": {
      "text/plain": [
       "array([[   0,    0,    0,    1],\n",
       "       [   0,    1,    1,    1],\n",
       "       [   0,    2,    2,    1],\n",
       "       ...,\n",
       "       [2044,    0, 2044,    1],\n",
       "       [2045,    0, 2045,    1],\n",
       "       [2046,    0, 2046,    1]])"
      ]
     },
     "execution_count": 29,
     "metadata": {},
     "output_type": "execute_result"
    }
   ],
   "source": [
    "table_jax"
   ]
  },
  {
   "cell_type": "code",
   "execution_count": 30,
   "id": "fa096a2f-7ba3-43f0-891f-e52c0e4010e8",
   "metadata": {},
   "outputs": [
    {
     "data": {
      "text/plain": [
       "True"
      ]
     },
     "execution_count": 30,
     "metadata": {},
     "output_type": "execute_result"
    }
   ],
   "source": [
    "np.allclose(table_jax, table_numba)"
   ]
  },
  {
   "cell_type": "markdown",
   "id": "f499a2e3-47c6-49e0-8c5d-0a85457f7165",
   "metadata": {},
   "source": [
    "## Shuffle product (when the shuffle table is compiled)"
   ]
  },
  {
   "cell_type": "code",
   "execution_count": 31,
   "id": "4ec73aed-055b-4e7a-9468-6a33b3c5ea34",
   "metadata": {},
   "outputs": [
    {
     "name": "stdout",
     "output_type": "stream",
     "text": [
      "The autoreload extension is already loaded. To reload it, use:\n",
      "  %reload_ext autoreload\n"
     ]
    }
   ],
   "source": [
    "%load_ext autoreload\n",
    "%autoreload 2\n",
    "import sys\n",
    "if \"../..\" not in sys.path:\n",
    "    sys.path.append(\"../..\")\n",
    "\n",
    "import numpy as np\n",
    "import matplotlib\n",
    "import matplotlib.pyplot as plt\n",
    "import json\n",
    "from signature.signature.tensor_algebra import TensorAlgebra\n",
    "from signature.signature.tensor_sequence import TensorSequence\n",
    "from signature.signature.stationary_signature import stationary_signature_from_path, G\n",
    "from signature.signature.expected_signature import expected_signature, expected_stationary_signature\n",
    "from scipy.optimize import minimize\n",
    "\n",
    "green = \"#5b6c64\"\n",
    "copper = \"#B56246\"\n",
    "plt.rcParams[\"figure.figsize\"]        = ((1 + np.sqrt(5)) / 2 * 5, 5)\n",
    "plt.rcParams[\"figure.autolayout\"]     = True\n",
    "plt.rcParams[\"patch.force_edgecolor\"] = False\n",
    "plt.rcParams[\"axes.grid\"]             = True\n",
    "plt.rcParams['axes.prop_cycle']       = matplotlib.cycler(color=[green, copper, \"#322B4D\", \"#28BC9C\", \"#71074E\"])"
   ]
  },
  {
   "cell_type": "markdown",
   "id": "cea1dfcc-d800-49ae-8e49-3dca4f35b38f",
   "metadata": {},
   "source": [
    "#### Numba"
   ]
  },
  {
   "cell_type": "code",
   "execution_count": 32,
   "id": "60ef1010-fae6-4849-9025-68ba46322b0e",
   "metadata": {},
   "outputs": [
    {
     "name": "stdout",
     "output_type": "stream",
     "text": [
      "Compiling...\n",
      "Compilation finished.\n",
      "CPU times: total: 1.38 s\n",
      "Wall time: 2.26 s\n"
     ]
    }
   ],
   "source": [
    "%%time\n",
    "\n",
    "table_trunc = 10\n",
    "ts_trunc = 5\n",
    "\n",
    "ta = TensorAlgebra(dim=2, trunc=table_trunc)"
   ]
  },
  {
   "cell_type": "code",
   "execution_count": 33,
   "id": "d537e096-9b87-4a31-b03d-bc4cef8fbe4b",
   "metadata": {},
   "outputs": [],
   "source": [
    "rng = np.random.default_rng(seed=42)\n",
    "array = rng.random(size=ta.alphabet.number_of_elements(ts_trunc))"
   ]
  },
  {
   "cell_type": "code",
   "execution_count": 34,
   "id": "d7a4e988-c515-4917-b26e-618656795a7f",
   "metadata": {},
   "outputs": [],
   "source": [
    "ts = ta.from_array(trunc=table_trunc, array=array)"
   ]
  },
  {
   "cell_type": "code",
   "execution_count": 35,
   "id": "8bb81b0b-ec1a-4de1-a19d-4b4d752c3b91",
   "metadata": {},
   "outputs": [
    {
     "name": "stdout",
     "output_type": "stream",
     "text": [
      "4.49 ms ± 320 µs per loop (mean ± std. dev. of 7 runs, 100 loops each)\n"
     ]
    }
   ],
   "source": [
    "%%timeit\n",
    "res = ta.shuop.shuffle_prod(ts, ts)"
   ]
  },
  {
   "cell_type": "code",
   "execution_count": 36,
   "id": "d181354d-13a3-4df6-b29a-850b964ae6a6",
   "metadata": {},
   "outputs": [
    {
     "data": {
      "text/plain": [
       "array([ 0.59900797,  0.67934525,  1.32903411, ..., 79.59349657,\n",
       "       67.10270751, 80.51194773])"
      ]
     },
     "execution_count": 36,
     "metadata": {},
     "output_type": "execute_result"
    }
   ],
   "source": [
    "res = ta.shuop.shuffle_prod(ts, ts)\n",
    "res.array.squeeze().real"
   ]
  },
  {
   "cell_type": "markdown",
   "id": "abaed30e-659e-4dc7-b5bf-d858bf8cd2a5",
   "metadata": {},
   "source": [
    "#### Pure numpy"
   ]
  },
  {
   "cell_type": "code",
   "execution_count": 37,
   "id": "10e62ea8-c30b-4004-ad41-0cfd124968a6",
   "metadata": {},
   "outputs": [],
   "source": [
    "def __get_extended_array_np(ts: TensorSequence):\n",
    "    n_elements = ta.alphabet.number_of_elements(table_trunc)\n",
    "\n",
    "    new_array = np.zeros((n_elements,) + ts.shape[1:], dtype=complex)\n",
    "    new_array[:min(n_elements, ts.shape[0])] = ts.array[:min(n_elements, ts.shape[0])]\n",
    "    return new_array\n",
    "\n",
    "def shuffle_prod_np(\n",
    "    ts1: TensorSequence,\n",
    "    ts2: TensorSequence,\n",
    "    shuffle_table\n",
    "):\n",
    "    index_left, index_right, index_result, count = shuffle_table\n",
    "\n",
    "    if ts1.trunc < table_trunc:\n",
    "        array_1 = __get_extended_array_np(ts1)\n",
    "    else:\n",
    "        array_1 = ts1.array\n",
    "\n",
    "    if ts2.trunc < table_trunc:\n",
    "        array_2 = __get_extended_array_np(ts2)\n",
    "    else:\n",
    "        array_2 = ts2.array\n",
    "\n",
    "    source = count * array_1[index_left, 0, 0] * array_2[index_right, 0, 0]\n",
    "    linear_result = np.zeros(index_result[-1] + 1, dtype=complex)\n",
    "    for i in range(len(index_result)):\n",
    "        linear_result[index_result[i]] = linear_result[index_result[i]] + source[i]\n",
    "    return TensorSequence(ta.alphabet, table_trunc, linear_result)"
   ]
  },
  {
   "cell_type": "code",
   "execution_count": 38,
   "id": "2b030703-5fca-45e1-a22f-0e7c9cd719b1",
   "metadata": {},
   "outputs": [
    {
     "name": "stdout",
     "output_type": "stream",
     "text": [
      "112 ms ± 9.29 ms per loop (mean ± std. dev. of 7 runs, 10 loops each)\n"
     ]
    }
   ],
   "source": [
    "%%timeit\n",
    "res2 = shuffle_prod_np(ts, ts, ta.shuop.shuffle_table)"
   ]
  },
  {
   "cell_type": "code",
   "execution_count": 39,
   "id": "d79d83c8-c87a-465a-86c2-15440b3903d1",
   "metadata": {},
   "outputs": [
    {
     "name": "stdout",
     "output_type": "stream",
     "text": [
      "\n"
     ]
    }
   ],
   "source": [
    "res2 = shuffle_prod_np(ts, ts, ta.shuop.shuffle_table)\n",
    "ta.print(res2 - res)"
   ]
  },
  {
   "cell_type": "code",
   "execution_count": 40,
   "id": "c84db774-19c2-4209-99b8-6b4b44488efe",
   "metadata": {},
   "outputs": [],
   "source": [
    "import jax\n",
    "import jax.numpy as jnp\n",
    "from jax import lax\n",
    "from functools import partial\n",
    "\n",
    "from signature.signature.jax_signature.words import number_of_words_up_to_trunc\n",
    "\n",
    "def change_trunc(ts: jax.Array, trunc: int, dim: int = 2):\n",
    "    n_elements = number_of_words_up_to_trunc(trunc, dim)\n",
    "    new_array = jnp.zeros(n_elements)\n",
    "    new_array = new_array.at[:min(n_elements, ts.shape[0])].set(ts[:min(n_elements, ts.shape[0])])\n",
    "    return new_array\n",
    "\n",
    "@jax.jit\n",
    "def shuffle_prod_jax(\n",
    "    ts1: jax.Array,\n",
    "    ts2: jax.Array,\n",
    "    shuffle_table: jax.Array,\n",
    "):\n",
    "    index_left, index_right, index_result, count = shuffle_table\n",
    "\n",
    "    source = count * ts1[index_left] * ts2[index_right]\n",
    "    linear_result = ts1 * 0\n",
    "    #jnp.zeros(number_of_words_up_to_trunc(trunc)) # index_result[-1] + 1\n",
    "    linear_result = linear_result.at[index_result].add(source)\n",
    "    \n",
    "    return linear_result\n",
    "\n",
    "shuffle_prod_jax_vect = jax.jit(jax.vmap(shuffle_prod_jax, in_axes=(1, 1, None), out_axes=1))"
   ]
  },
  {
   "cell_type": "code",
   "execution_count": 41,
   "id": "b6721262-8b10-440f-a770-c32150fa3542",
   "metadata": {},
   "outputs": [
    {
     "data": {
      "text/plain": [
       "Array([0.77395605, 0.43887844, 0.85859792, ..., 0.        , 0.        ,\n",
       "       0.        ], dtype=float64)"
      ]
     },
     "execution_count": 41,
     "metadata": {},
     "output_type": "execute_result"
    }
   ],
   "source": [
    "ts_arr = jnp.array(ts.array.squeeze()).real\n",
    "ts_arr"
   ]
  },
  {
   "cell_type": "code",
   "execution_count": 42,
   "id": "ea15c963-a745-4427-b414-0979cc87d96d",
   "metadata": {},
   "outputs": [],
   "source": [
    "ts_arr_2d = jnp.vstack([ts_arr] * 10).T"
   ]
  },
  {
   "cell_type": "code",
   "execution_count": 43,
   "id": "c898d638-827d-45a5-9830-d267b04c1153",
   "metadata": {},
   "outputs": [],
   "source": [
    "shuffle_table = get_shuffle_table(table_trunc=table_trunc)"
   ]
  },
  {
   "cell_type": "code",
   "execution_count": 122,
   "id": "76b89343-50bc-4ff3-a113-4415f84a4274",
   "metadata": {},
   "outputs": [
    {
     "name": "stdout",
     "output_type": "stream",
     "text": [
      "4.02 ms ± 239 µs per loop (mean ± std. dev. of 7 runs, 100 loops each)\n"
     ]
    }
   ],
   "source": [
    "%%timeit\n",
    "ts_arr_2 = change_trunc(ts=ts_arr, trunc=10)\n",
    "ts_arr_2 = change_trunc(ts=ts_arr, trunc=10)\n",
    "shuffle_prod_jax(ts_arr, ts_arr, shuffle_table=shuffle_table)"
   ]
  },
  {
   "cell_type": "code",
   "execution_count": 123,
   "id": "88387d98-3531-4535-a2d2-0bded89efe55",
   "metadata": {},
   "outputs": [],
   "source": [
    "from signature.signature.jax_signature.tensor_sequence_jax import TensorSequenceJAX"
   ]
  },
  {
   "cell_type": "code",
   "execution_count": 203,
   "id": "adf0f3e9-c093-4da4-856a-ed815b4451c1",
   "metadata": {},
   "outputs": [
    {
     "data": {
      "text/plain": [
       "Array([[0.77395605, 0.77395605, 0.77395605, ..., 0.77395605, 0.77395605,\n",
       "        0.77395605],\n",
       "       [0.43887844, 0.43887844, 0.43887844, ..., 0.43887844, 0.43887844,\n",
       "        0.43887844],\n",
       "       [0.85859792, 0.85859792, 0.85859792, ..., 0.85859792, 0.85859792,\n",
       "        0.85859792],\n",
       "       ...,\n",
       "       [0.        , 0.        , 0.        , ..., 0.        , 0.        ,\n",
       "        0.        ],\n",
       "       [0.        , 0.        , 0.        , ..., 0.        , 0.        ,\n",
       "        0.        ],\n",
       "       [0.        , 0.        , 0.        , ..., 0.        , 0.        ,\n",
       "        0.        ]], dtype=float64)"
      ]
     },
     "execution_count": 203,
     "metadata": {},
     "output_type": "execute_result"
    }
   ],
   "source": [
    "ts_arr_2d"
   ]
  },
  {
   "cell_type": "code",
   "execution_count": 243,
   "id": "37967159-fec0-4075-a4f2-c5db3b1255bd",
   "metadata": {},
   "outputs": [],
   "source": [
    "ts_jax = TensorSequenceJAX(array=ts_arr, trunc=table_trunc, dim=dim)"
   ]
  },
  {
   "cell_type": "code",
   "execution_count": 244,
   "id": "d8b7f348-8102-493b-91f6-d1123562bef0",
   "metadata": {},
   "outputs": [
    {
     "name": "stdout",
     "output_type": "stream",
     "text": [
      "0.7739560485559633*0 + 0.4388784397520523*1 + 0.8585979199113825*2 + 0.6973680290593639*11 + 0.09417734788764953*12 + 0.9756223516367559*21 + 0.761139701990353*22 + 0.7860643052769538*111 + 0.12811363267554587*112 + 0.45038593789556713*121 + 0.37079802423258124*122 + 0.9267649888486018*211 + 0.6438651200806645*212 + 0.82276161327083*221 + 0.44341419882733113*222 + 0.2272387217847769*1111 + 0.5545847870158348*1112 + 0.06381725610417532*1121 + 0.8276311719925821*1122 + 0.6316643991220648*1211 + 0.7580877400853738*1212 + 0.35452596812986836*1221 + 0.9706980243949033*1222 + 0.8931211213221977*2111 + 0.7783834970737619*2112 + 0.19463870785196757*2121 + 0.4667210037270342*2122 + 0.04380376578722878*2211 + 0.15428949206754783*2212 + 0.6830489532424546*2221 + 0.7447621559078171*2222 + 0.96750973243421*11111 + 0.32582535813815194*11112 + 0.3704597060348689*11121 + 0.4695558112758079*11122 + 0.1894713590842857*11211 + 0.12992150533547164*11212 + 0.47570492622593374*11221 + 0.2269093490508841*11222 + 0.6698139946825103*12111 + 0.43715191887233074*12112 + 0.8326781960578374*12121 + 0.7002651020022491*12122 + 0.31236664138204107*12211 + 0.8322598013952011*12212 + 0.8047643574968019*12221 + 0.38747837903017446*12222 + 0.2883281039302441*21111 + 0.6824955039749755*21112 + 0.1397524836093098*21121 + 0.19990820247510832*21122 + 0.007362269751005512*21211 + 0.7869243775021384*21212 + 0.6648508565920321*21221 + 0.7051653786263351*21222 + 0.7807290310219679*22111 + 0.45891577553833995*22112 + 0.5687411959528937*22121 + 0.13979699812765745*22122 + 0.11453007353597344*22211 + 0.6684029617904717*22212 + 0.4710962061431325*22221 + 0.5652361064811888*22222\n"
     ]
    }
   ],
   "source": [
    "print(ts_jax)"
   ]
  },
  {
   "cell_type": "code",
   "execution_count": 245,
   "id": "a2290df2-7768-4d0d-a2ca-a1d05a3df807",
   "metadata": {},
   "outputs": [
    {
     "ename": "NonConcreteBooleanIndexError",
     "evalue": "Array boolean indices must be concrete; got ShapedArray(bool[2047])\n\nSee https://jax.readthedocs.io/en/latest/errors.html#jax.errors.NonConcreteBooleanIndexError",
     "output_type": "error",
     "traceback": [
      "\u001b[1;31m---------------------------------------------------------------------------\u001b[0m",
      "\u001b[1;31mNonConcreteBooleanIndexError\u001b[0m              Traceback (most recent call last)",
      "Cell \u001b[1;32mIn[245], line 1\u001b[0m\n\u001b[1;32m----> 1\u001b[0m \u001b[38;5;28mprint\u001b[39m(\u001b[43mts_jax\u001b[49m\u001b[38;5;241;43m.\u001b[39;49m\u001b[43mproj\u001b[49m\u001b[43m(\u001b[49m\u001b[38;5;241;43m1\u001b[39;49m\u001b[43m)\u001b[49m)\n",
      "    \u001b[1;31m[... skipping hidden 11 frame]\u001b[0m\n",
      "File \u001b[1;32m~\\OneDrive - ENGIE\\projects\\signature\\notebooks\\../..\\signature\\signature\\jax_signature\\tensor_sequence_jax.py:138\u001b[0m, in \u001b[0;36mTensorSequenceJAX.proj\u001b[1;34m(self, word)\u001b[0m\n\u001b[0;32m    136\u001b[0m indices_mask \u001b[38;5;241m=\u001b[39m (((indices \u001b[38;5;241m-\u001b[39m word_index) \u001b[38;5;241m%\u001b[39m \u001b[38;5;28mself\u001b[39m\u001b[38;5;241m.\u001b[39mdim\u001b[38;5;241m*\u001b[39m\u001b[38;5;241m*\u001b[39mword_length) \u001b[38;5;241m==\u001b[39m \u001b[38;5;241m0\u001b[39m) \u001b[38;5;241m&\u001b[39m (indices \u001b[38;5;241m>\u001b[39m\u001b[38;5;241m=\u001b[39m word_index)\n\u001b[0;32m    137\u001b[0m \u001b[38;5;66;03m# indices_to_keep = indices[indices_mask]\u001b[39;00m\n\u001b[1;32m--> 138\u001b[0m length_arr \u001b[38;5;241m=\u001b[39m index_to_word_len(\u001b[43mindices\u001b[49m\u001b[43m[\u001b[49m\u001b[43mindices_mask\u001b[49m\u001b[43m]\u001b[49m, dim\u001b[38;5;241m=\u001b[39m\u001b[38;5;28mself\u001b[39m\u001b[38;5;241m.\u001b[39mdim)\n\u001b[0;32m    139\u001b[0m new_indices \u001b[38;5;241m=\u001b[39m (indices[indices_mask] \u001b[38;5;241m-\u001b[39m \u001b[38;5;28mself\u001b[39m\u001b[38;5;241m.\u001b[39mdim\u001b[38;5;241m*\u001b[39m\u001b[38;5;241m*\u001b[39mlength_arr \u001b[38;5;241m+\u001b[39m \u001b[38;5;241m1\u001b[39m) \u001b[38;5;241m/\u001b[39m\u001b[38;5;241m/\u001b[39m \u001b[38;5;28mself\u001b[39m\u001b[38;5;241m.\u001b[39mdim\u001b[38;5;241m*\u001b[39m\u001b[38;5;241m*\u001b[39mword_length \u001b[38;5;241m+\u001b[39m \\\n\u001b[0;32m    140\u001b[0m     \u001b[38;5;28mself\u001b[39m\u001b[38;5;241m.\u001b[39mdim\u001b[38;5;241m*\u001b[39m\u001b[38;5;241m*\u001b[39m(length_arr \u001b[38;5;241m-\u001b[39m word_length) \u001b[38;5;241m-\u001b[39m \u001b[38;5;241m1\u001b[39m\n\u001b[0;32m    142\u001b[0m array \u001b[38;5;241m=\u001b[39m jnp\u001b[38;5;241m.\u001b[39mzeros_like(\u001b[38;5;28mself\u001b[39m\u001b[38;5;241m.\u001b[39marray)\n",
      "File \u001b[1;32m~\\Anaconda3\\envs\\signature\\lib\\site-packages\\jax\\_src\\numpy\\array_methods.py:739\u001b[0m, in \u001b[0;36m_forward_operator_to_aval.<locals>.op\u001b[1;34m(self, *args)\u001b[0m\n\u001b[0;32m    738\u001b[0m \u001b[38;5;28;01mdef\u001b[39;00m \u001b[38;5;21mop\u001b[39m(\u001b[38;5;28mself\u001b[39m, \u001b[38;5;241m*\u001b[39margs):\n\u001b[1;32m--> 739\u001b[0m   \u001b[38;5;28;01mreturn\u001b[39;00m \u001b[38;5;28;43mgetattr\u001b[39;49m\u001b[43m(\u001b[49m\u001b[38;5;28;43mself\u001b[39;49m\u001b[38;5;241;43m.\u001b[39;49m\u001b[43maval\u001b[49m\u001b[43m,\u001b[49m\u001b[43m \u001b[49m\u001b[38;5;124;43mf\u001b[39;49m\u001b[38;5;124;43m\"\u001b[39;49m\u001b[38;5;124;43m_\u001b[39;49m\u001b[38;5;132;43;01m{\u001b[39;49;00m\u001b[43mname\u001b[49m\u001b[38;5;132;43;01m}\u001b[39;49;00m\u001b[38;5;124;43m\"\u001b[39;49m\u001b[43m)\u001b[49m\u001b[43m(\u001b[49m\u001b[38;5;28;43mself\u001b[39;49m\u001b[43m,\u001b[49m\u001b[43m \u001b[49m\u001b[38;5;241;43m*\u001b[39;49m\u001b[43margs\u001b[49m\u001b[43m)\u001b[49m\n",
      "File \u001b[1;32m~\\Anaconda3\\envs\\signature\\lib\\site-packages\\jax\\_src\\numpy\\array_methods.py:352\u001b[0m, in \u001b[0;36m_getitem\u001b[1;34m(self, item)\u001b[0m\n\u001b[0;32m    351\u001b[0m \u001b[38;5;28;01mdef\u001b[39;00m \u001b[38;5;21m_getitem\u001b[39m(\u001b[38;5;28mself\u001b[39m, item):\n\u001b[1;32m--> 352\u001b[0m   \u001b[38;5;28;01mreturn\u001b[39;00m \u001b[43mlax_numpy\u001b[49m\u001b[38;5;241;43m.\u001b[39;49m\u001b[43m_rewriting_take\u001b[49m\u001b[43m(\u001b[49m\u001b[38;5;28;43mself\u001b[39;49m\u001b[43m,\u001b[49m\u001b[43m \u001b[49m\u001b[43mitem\u001b[49m\u001b[43m)\u001b[49m\n",
      "File \u001b[1;32m~\\Anaconda3\\envs\\signature\\lib\\site-packages\\jax\\_src\\numpy\\lax_numpy.py:6593\u001b[0m, in \u001b[0;36m_rewriting_take\u001b[1;34m(arr, idx, indices_are_sorted, unique_indices, mode, fill_value)\u001b[0m\n\u001b[0;32m   6587\u001b[0m     \u001b[38;5;28;01mif\u001b[39;00m (\u001b[38;5;28misinstance\u001b[39m(aval, core\u001b[38;5;241m.\u001b[39mDShapedArray) \u001b[38;5;129;01mand\u001b[39;00m aval\u001b[38;5;241m.\u001b[39mshape \u001b[38;5;241m==\u001b[39m () \u001b[38;5;129;01mand\u001b[39;00m\n\u001b[0;32m   6588\u001b[0m         dtypes\u001b[38;5;241m.\u001b[39missubdtype(aval\u001b[38;5;241m.\u001b[39mdtype, np\u001b[38;5;241m.\u001b[39minteger) \u001b[38;5;129;01mand\u001b[39;00m\n\u001b[0;32m   6589\u001b[0m         \u001b[38;5;129;01mnot\u001b[39;00m dtypes\u001b[38;5;241m.\u001b[39missubdtype(aval\u001b[38;5;241m.\u001b[39mdtype, dtypes\u001b[38;5;241m.\u001b[39mbool_) \u001b[38;5;129;01mand\u001b[39;00m\n\u001b[0;32m   6590\u001b[0m         \u001b[38;5;28misinstance\u001b[39m(arr\u001b[38;5;241m.\u001b[39mshape[\u001b[38;5;241m0\u001b[39m], \u001b[38;5;28mint\u001b[39m)):\n\u001b[0;32m   6591\u001b[0m       \u001b[38;5;28;01mreturn\u001b[39;00m lax\u001b[38;5;241m.\u001b[39mdynamic_index_in_dim(arr, idx, keepdims\u001b[38;5;241m=\u001b[39m\u001b[38;5;28;01mFalse\u001b[39;00m)\n\u001b[1;32m-> 6593\u001b[0m treedef, static_idx, dynamic_idx \u001b[38;5;241m=\u001b[39m \u001b[43m_split_index_for_jit\u001b[49m\u001b[43m(\u001b[49m\u001b[43midx\u001b[49m\u001b[43m,\u001b[49m\u001b[43m \u001b[49m\u001b[43marr\u001b[49m\u001b[38;5;241;43m.\u001b[39;49m\u001b[43mshape\u001b[49m\u001b[43m)\u001b[49m\n\u001b[0;32m   6594\u001b[0m \u001b[38;5;28;01mreturn\u001b[39;00m _gather(arr, treedef, static_idx, dynamic_idx, indices_are_sorted,\n\u001b[0;32m   6595\u001b[0m                unique_indices, mode, fill_value)\n",
      "File \u001b[1;32m~\\Anaconda3\\envs\\signature\\lib\\site-packages\\jax\\_src\\numpy\\lax_numpy.py:6678\u001b[0m, in \u001b[0;36m_split_index_for_jit\u001b[1;34m(idx, shape)\u001b[0m\n\u001b[0;32m   6674\u001b[0m   \u001b[38;5;28;01mraise\u001b[39;00m \u001b[38;5;167;01mTypeError\u001b[39;00m(\u001b[38;5;124mf\u001b[39m\u001b[38;5;124m\"\u001b[39m\u001b[38;5;124mJAX does not support string indexing; got \u001b[39m\u001b[38;5;132;01m{\u001b[39;00midx\u001b[38;5;132;01m=}\u001b[39;00m\u001b[38;5;124m\"\u001b[39m)\n\u001b[0;32m   6676\u001b[0m \u001b[38;5;66;03m# Expand any (concrete) boolean indices. We can then use advanced integer\u001b[39;00m\n\u001b[0;32m   6677\u001b[0m \u001b[38;5;66;03m# indexing logic to handle them.\u001b[39;00m\n\u001b[1;32m-> 6678\u001b[0m idx \u001b[38;5;241m=\u001b[39m \u001b[43m_expand_bool_indices\u001b[49m\u001b[43m(\u001b[49m\u001b[43midx\u001b[49m\u001b[43m,\u001b[49m\u001b[43m \u001b[49m\u001b[43mshape\u001b[49m\u001b[43m)\u001b[49m\n\u001b[0;32m   6680\u001b[0m leaves, treedef \u001b[38;5;241m=\u001b[39m tree_flatten(idx)\n\u001b[0;32m   6681\u001b[0m dynamic \u001b[38;5;241m=\u001b[39m [\u001b[38;5;28;01mNone\u001b[39;00m] \u001b[38;5;241m*\u001b[39m \u001b[38;5;28mlen\u001b[39m(leaves)\n",
      "File \u001b[1;32m~\\Anaconda3\\envs\\signature\\lib\\site-packages\\jax\\_src\\numpy\\lax_numpy.py:6976\u001b[0m, in \u001b[0;36m_expand_bool_indices\u001b[1;34m(idx, shape)\u001b[0m\n\u001b[0;32m   6972\u001b[0m   abstract_i \u001b[38;5;241m=\u001b[39m core\u001b[38;5;241m.\u001b[39mget_aval(i)\n\u001b[0;32m   6974\u001b[0m \u001b[38;5;28;01mif\u001b[39;00m \u001b[38;5;129;01mnot\u001b[39;00m \u001b[38;5;28mtype\u001b[39m(abstract_i) \u001b[38;5;129;01mis\u001b[39;00m ConcreteArray:\n\u001b[0;32m   6975\u001b[0m   \u001b[38;5;66;03m# TODO(mattjj): improve this error by tracking _why_ the indices are not concrete\u001b[39;00m\n\u001b[1;32m-> 6976\u001b[0m   \u001b[38;5;28;01mraise\u001b[39;00m errors\u001b[38;5;241m.\u001b[39mNonConcreteBooleanIndexError(abstract_i)\n\u001b[0;32m   6977\u001b[0m \u001b[38;5;28;01melif\u001b[39;00m _ndim(i) \u001b[38;5;241m==\u001b[39m \u001b[38;5;241m0\u001b[39m:\n\u001b[0;32m   6978\u001b[0m   out\u001b[38;5;241m.\u001b[39mappend(\u001b[38;5;28mbool\u001b[39m(i))\n",
      "\u001b[1;31mNonConcreteBooleanIndexError\u001b[0m: Array boolean indices must be concrete; got ShapedArray(bool[2047])\n\nSee https://jax.readthedocs.io/en/latest/errors.html#jax.errors.NonConcreteBooleanIndexError"
     ]
    }
   ],
   "source": [
    "print(ts_jax.proj(1))"
   ]
  },
  {
   "cell_type": "code",
   "execution_count": 225,
   "id": "f7eb8a38-674f-4a92-9113-72281e310b15",
   "metadata": {},
   "outputs": [],
   "source": [
    "@jax.jit\n",
    "def bar(ts: TensorSequenceJAX):\n",
    "    return ts.dim"
   ]
  },
  {
   "cell_type": "code",
   "execution_count": 206,
   "id": "6c6d53b1-33c0-4359-b883-3581af643e86",
   "metadata": {},
   "outputs": [
    {
     "data": {
      "text/plain": [
       "Array(2, dtype=int64, weak_type=True)"
      ]
     },
     "execution_count": 206,
     "metadata": {},
     "output_type": "execute_result"
    }
   ],
   "source": [
    "bar(ts_jax)"
   ]
  },
  {
   "cell_type": "code",
   "execution_count": 207,
   "id": "a90ade47-e5a5-4c64-aa5a-adac09427a8a",
   "metadata": {},
   "outputs": [
    {
     "data": {
      "text/plain": [
       "Array([21.94641586, 21.94641586, 21.94641586, 21.94641586, 21.94641586,\n",
       "       21.94641586, 21.94641586, 21.94641586, 21.94641586, 21.94641586],      dtype=float64)"
      ]
     },
     "execution_count": 207,
     "metadata": {},
     "output_type": "execute_result"
    }
   ],
   "source": [
    "ts_jax @ ts_jax"
   ]
  },
  {
   "cell_type": "code",
   "execution_count": 208,
   "id": "9c2ff7bd-8124-43a9-b52a-662d4021225e",
   "metadata": {},
   "outputs": [
    {
     "ename": "ValueError",
     "evalue": "could not broadcast input array from shape (15,10) into shape (15,)",
     "output_type": "error",
     "traceback": [
      "\u001b[1;31m---------------------------------------------------------------------------\u001b[0m",
      "\u001b[1;31mValueError\u001b[0m                                Traceback (most recent call last)",
      "Cell \u001b[1;32mIn[208], line 1\u001b[0m\n\u001b[1;32m----> 1\u001b[0m \u001b[43mts_jax\u001b[49m\u001b[38;5;241;43m.\u001b[39;49m\u001b[43mplot\u001b[49m\u001b[43m(\u001b[49m\u001b[43mtrunc\u001b[49m\u001b[38;5;241;43m=\u001b[39;49m\u001b[38;5;241;43m3\u001b[39;49m\u001b[43m)\u001b[49m\n",
      "File \u001b[1;32m~\\OneDrive - ENGIE\\projects\\signature\\notebooks\\../..\\signature\\signature\\jax_signature\\tensor_sequence_jax.py:139\u001b[0m, in \u001b[0;36mTensorSequenceJAX.plot\u001b[1;34m(self, trunc, ax, **kwargs)\u001b[0m\n\u001b[0;32m    137\u001b[0m indices \u001b[38;5;241m=\u001b[39m np\u001b[38;5;241m.\u001b[39marange(n_coefficients)\n\u001b[0;32m    138\u001b[0m coefficients \u001b[38;5;241m=\u001b[39m np\u001b[38;5;241m.\u001b[39mzeros(n_coefficients)\n\u001b[1;32m--> 139\u001b[0m \u001b[43mcoefficients\u001b[49m\u001b[43m[\u001b[49m\u001b[43m:\u001b[49m\u001b[38;5;28;43mmin\u001b[39;49m\u001b[43m(\u001b[49m\u001b[43mn_coefficients\u001b[49m\u001b[43m,\u001b[49m\u001b[43m \u001b[49m\u001b[38;5;28;43mlen\u001b[39;49m\u001b[43m(\u001b[49m\u001b[38;5;28;43mself\u001b[39;49m\u001b[43m)\u001b[49m\u001b[43m)\u001b[49m\u001b[43m]\u001b[49m \u001b[38;5;241m=\u001b[39m \u001b[38;5;28mself\u001b[39m\u001b[38;5;241m.\u001b[39marray[:\u001b[38;5;28mmin\u001b[39m(n_coefficients, \u001b[38;5;28mlen\u001b[39m(\u001b[38;5;28mself\u001b[39m))]\n\u001b[0;32m    141\u001b[0m \u001b[38;5;28;01mif\u001b[39;00m ax \u001b[38;5;129;01mis\u001b[39;00m \u001b[38;5;28;01mNone\u001b[39;00m:\n\u001b[0;32m    142\u001b[0m     fig, ax \u001b[38;5;241m=\u001b[39m plt\u001b[38;5;241m.\u001b[39msubplots()\n",
      "\u001b[1;31mValueError\u001b[0m: could not broadcast input array from shape (15,10) into shape (15,)"
     ]
    }
   ],
   "source": [
    "ts_jax.plot(trunc=3)"
   ]
  },
  {
   "cell_type": "code",
   "execution_count": 219,
   "id": "9bb63ce3-1ed3-449e-ae06-948c2e5d4b22",
   "metadata": {},
   "outputs": [
    {
     "data": {
      "text/plain": [
       "(2047, 10)"
      ]
     },
     "execution_count": 219,
     "metadata": {},
     "output_type": "execute_result"
    }
   ],
   "source": [
    "ts_jax.shape"
   ]
  },
  {
   "cell_type": "code",
   "execution_count": 290,
   "id": "cc1439df-7da1-4693-9d4f-f122129233c5",
   "metadata": {},
   "outputs": [],
   "source": [
    "a = A(a=jnp.ones(5x), b=False)"
   ]
  },
  {
   "cell_type": "code",
   "execution_count": 305,
   "id": "d8c13b66-1688-4594-94f7-48a1e73921f1",
   "metadata": {},
   "outputs": [],
   "source": [
    "@jax.jit\n",
    "def foo(a: A):\n",
    "    return a.b * a.a"
   ]
  },
  {
   "cell_type": "code",
   "execution_count": 292,
   "id": "b5a5cbf7-1ad8-48a7-9acf-591fc4a20af3",
   "metadata": {},
   "outputs": [
    {
     "data": {
      "text/plain": [
       "Array([0., 0., 0., 0., 0.], dtype=float64)"
      ]
     },
     "execution_count": 292,
     "metadata": {},
     "output_type": "execute_result"
    }
   ],
   "source": [
    "foo(a)"
   ]
  },
  {
   "cell_type": "code",
   "execution_count": 169,
   "id": "660ecc7f-a105-413e-83b0-6d13f4f3d236",
   "metadata": {},
   "outputs": [],
   "source": [
    "import jax.numpy as jnp\n",
    "\n",
    "A = jnp.ones((1000, 300, 400)) * 2  # Example shape\n",
    "B = jnp.ones((1000, 300, 400))\n",
    "\n",
    "@jax.jit\n",
    "def matmul_1(A, B):\n",
    "    result = jnp.einsum('i...,i...->...', A, B)  # Summing over the first axis\n",
    "    return result\n",
    "\n",
    "# @jax.jit\n",
    "def matmul_2(A, B):\n",
    "    result = np.sum(A * B, axis=0)\n",
    "    return result"
   ]
  },
  {
   "cell_type": "code",
   "execution_count": 170,
   "id": "153c46fb-c455-4654-842b-653ed805d385",
   "metadata": {},
   "outputs": [
    {
     "data": {
      "text/plain": [
       "Array([[2000., 2000., 2000., ..., 2000., 2000., 2000.],\n",
       "       [2000., 2000., 2000., ..., 2000., 2000., 2000.],\n",
       "       [2000., 2000., 2000., ..., 2000., 2000., 2000.],\n",
       "       ...,\n",
       "       [2000., 2000., 2000., ..., 2000., 2000., 2000.],\n",
       "       [2000., 2000., 2000., ..., 2000., 2000., 2000.],\n",
       "       [2000., 2000., 2000., ..., 2000., 2000., 2000.]], dtype=float64)"
      ]
     },
     "execution_count": 170,
     "metadata": {},
     "output_type": "execute_result"
    }
   ],
   "source": [
    "matmul_2(A, B)"
   ]
  },
  {
   "cell_type": "code",
   "execution_count": 171,
   "id": "d95b024c-89a3-4f41-92cb-1c03650c1241",
   "metadata": {},
   "outputs": [
    {
     "name": "stdout",
     "output_type": "stream",
     "text": [
      "170 ms ± 3.25 ms per loop (mean ± std. dev. of 7 runs, 10 loops each)\n"
     ]
    }
   ],
   "source": [
    "%%timeit\n",
    "matmul_2(A, B)"
   ]
  },
  {
   "cell_type": "code",
   "execution_count": 189,
   "id": "f89012d8-7110-4b61-a5fa-632949478cfb",
   "metadata": {},
   "outputs": [
    {
     "data": {
      "text/plain": [
       "Array([[2., 2., 2., ..., 2., 2., 2.],\n",
       "       [2., 2., 2., ..., 2., 2., 2.],\n",
       "       [2., 2., 2., ..., 2., 2., 2.],\n",
       "       ...,\n",
       "       [2., 2., 2., ..., 2., 2., 2.],\n",
       "       [2., 2., 2., ..., 2., 2., 2.],\n",
       "       [2., 2., 2., ..., 2., 2., 2.]], dtype=float64)"
      ]
     },
     "execution_count": 189,
     "metadata": {},
     "output_type": "execute_result"
    }
   ],
   "source": [
    "A[:, 1:10, 1]"
   ]
  },
  {
   "cell_type": "code",
   "execution_count": 222,
   "id": "a9de9ece-5b88-496c-8877-40e445e4423b",
   "metadata": {},
   "outputs": [],
   "source": [
    "import signature.signature.jax_signature.words as alpha\n",
    "import signature.signature.jax_signature.tensor_algebra_jax as taj"
   ]
  },
  {
   "cell_type": "code",
   "execution_count": 223,
   "id": "86425ac2-22fe-4bcd-9899-75e88f71fd24",
   "metadata": {},
   "outputs": [
    {
     "data": {
      "text/plain": [
       "Array(4, dtype=int64)"
      ]
     },
     "execution_count": 223,
     "metadata": {},
     "output_type": "execute_result"
    }
   ],
   "source": [
    "taj.word_to_base_dim_number(123, 2)"
   ]
  },
  {
   "cell_type": "code",
   "execution_count": null,
   "id": "59c14613-5267-4e8d-b992-8be350a5347b",
   "metadata": {},
   "outputs": [],
   "source": []
  },
  {
   "cell_type": "code",
   "execution_count": 195,
   "id": "39b90a3e-7365-49e4-ad28-048542784152",
   "metadata": {},
   "outputs": [
    {
     "data": {
      "text/plain": [
       "Array([[0., 0., 0., ..., 0., 0., 0.],\n",
       "       [0., 0., 0., ..., 0., 0., 0.],\n",
       "       [0., 0., 0., ..., 0., 0., 0.],\n",
       "       ...,\n",
       "       [0., 0., 0., ..., 0., 0., 0.],\n",
       "       [0., 0., 0., ..., 0., 0., 0.],\n",
       "       [0., 0., 0., ..., 0., 0., 0.]], dtype=float64)"
      ]
     },
     "execution_count": 195,
     "metadata": {},
     "output_type": "execute_result"
    }
   ],
   "source": [
    "a = (slice(1, 10), 1)\n",
    "A[(slice(None), *a)]"
   ]
  },
  {
   "cell_type": "code",
   "execution_count": 191,
   "id": "39b59957-d5fa-4fc3-aa65-3565e102c36b",
   "metadata": {},
   "outputs": [
    {
     "data": {
      "text/plain": [
       "Array([0.43887844, 0.85859792, 0.69736803, ..., 0.        , 0.        ,\n",
       "       0.        ], dtype=float64)"
      ]
     },
     "execution_count": 191,
     "metadata": {},
     "output_type": "execute_result"
    }
   ],
   "source": [
    "ts_jax[1:]"
   ]
  },
  {
   "cell_type": "code",
   "execution_count": 178,
   "id": "336cd0e5-32e5-4a4c-8752-7eda8a5f22c3",
   "metadata": {},
   "outputs": [
    {
     "data": {
      "text/plain": [
       "(1000, 300, 400)"
      ]
     },
     "execution_count": 178,
     "metadata": {},
     "output_type": "execute_result"
    }
   ],
   "source": [
    "A.shape"
   ]
  }
 ],
 "metadata": {
  "kernelspec": {
   "display_name": "signature",
   "language": "python",
   "name": "signature"
  },
  "language_info": {
   "codemirror_mode": {
    "name": "ipython",
    "version": 3
   },
   "file_extension": ".py",
   "mimetype": "text/x-python",
   "name": "python",
   "nbconvert_exporter": "python",
   "pygments_lexer": "ipython3",
   "version": "3.9.20"
  }
 },
 "nbformat": 4,
 "nbformat_minor": 5
}
